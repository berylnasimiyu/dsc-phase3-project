{
 "cells": [
  {
   "cell_type": "markdown",
   "metadata": {},
   "source": [
    "### Objective of the study\n",
    "#### Project Overview\n",
    "In Tanzania, a developing country with a population of over 57,000,000, providing clean water is a significant challenge. While numerous water points are established, some require repair or have failed altogether. This project aims to build a classifier predicting the condition of water wells, utilizing information such as the type of pump, installation date, and more. The potential audience for this analysis includes NGOs focused on locating wells needing repair or the Government of Tanzania seeking insights into non-functional wells to influence new well construction. \n",
    "\n",
    "Through this analysis we are going to answer the following questions:\n",
    "   Q1. Does source of water influence the functionality of the wells?\n",
    "\n",
    "   Q2. Does Age effect the condition of the wells?\n",
    "\n",
    "   Q3. What is the best mode of payment for maintainence of wells?\n",
    "\n",
    "   Q4. Does having Public Meetings help to keep the wells functional?"
   ]
  },
  {
   "cell_type": "markdown",
   "metadata": {},
   "source": [
    "### 1.IMPORT LIBRARIES\n",
    "\n",
    "\n"
   ]
  },
  {
   "cell_type": "code",
   "execution_count": 174,
   "metadata": {},
   "outputs": [],
   "source": [
    "import numpy as np\n",
    "import pandas as pd\n",
    "import matplotlib.pyplot as plt\n",
    "import seaborn as sns"
   ]
  },
  {
   "cell_type": "code",
   "execution_count": 175,
   "metadata": {},
   "outputs": [],
   "source": [
    "df1 = pd.read_csv('d.1.csv') # the target class dataset\n",
    "df3 = pd.read_csv('d.3.csv') # all our features dataset"
   ]
  },
  {
   "cell_type": "code",
   "execution_count": 176,
   "metadata": {},
   "outputs": [
    {
     "data": {
      "text/html": [
       "<div>\n",
       "<style scoped>\n",
       "    .dataframe tbody tr th:only-of-type {\n",
       "        vertical-align: middle;\n",
       "    }\n",
       "\n",
       "    .dataframe tbody tr th {\n",
       "        vertical-align: top;\n",
       "    }\n",
       "\n",
       "    .dataframe thead th {\n",
       "        text-align: right;\n",
       "    }\n",
       "</style>\n",
       "<table border=\"1\" class=\"dataframe\">\n",
       "  <thead>\n",
       "    <tr style=\"text-align: right;\">\n",
       "      <th></th>\n",
       "      <th>id</th>\n",
       "      <th>status_group</th>\n",
       "    </tr>\n",
       "  </thead>\n",
       "  <tbody>\n",
       "    <tr>\n",
       "      <th>0</th>\n",
       "      <td>69572</td>\n",
       "      <td>functional</td>\n",
       "    </tr>\n",
       "    <tr>\n",
       "      <th>1</th>\n",
       "      <td>8776</td>\n",
       "      <td>functional</td>\n",
       "    </tr>\n",
       "    <tr>\n",
       "      <th>2</th>\n",
       "      <td>34310</td>\n",
       "      <td>functional</td>\n",
       "    </tr>\n",
       "    <tr>\n",
       "      <th>3</th>\n",
       "      <td>67743</td>\n",
       "      <td>non functional</td>\n",
       "    </tr>\n",
       "    <tr>\n",
       "      <th>4</th>\n",
       "      <td>19728</td>\n",
       "      <td>functional</td>\n",
       "    </tr>\n",
       "  </tbody>\n",
       "</table>\n",
       "</div>"
      ],
      "text/plain": [
       "      id    status_group\n",
       "0  69572      functional\n",
       "1   8776      functional\n",
       "2  34310      functional\n",
       "3  67743  non functional\n",
       "4  19728      functional"
      ]
     },
     "execution_count": 176,
     "metadata": {},
     "output_type": "execute_result"
    }
   ],
   "source": [
    "df1.head()"
   ]
  },
  {
   "cell_type": "code",
   "execution_count": 177,
   "metadata": {},
   "outputs": [
    {
     "data": {
      "text/html": [
       "<div>\n",
       "<style scoped>\n",
       "    .dataframe tbody tr th:only-of-type {\n",
       "        vertical-align: middle;\n",
       "    }\n",
       "\n",
       "    .dataframe tbody tr th {\n",
       "        vertical-align: top;\n",
       "    }\n",
       "\n",
       "    .dataframe thead th {\n",
       "        text-align: right;\n",
       "    }\n",
       "</style>\n",
       "<table border=\"1\" class=\"dataframe\">\n",
       "  <thead>\n",
       "    <tr style=\"text-align: right;\">\n",
       "      <th></th>\n",
       "      <th>id</th>\n",
       "      <th>amount_tsh</th>\n",
       "      <th>date_recorded</th>\n",
       "      <th>funder</th>\n",
       "      <th>gps_height</th>\n",
       "      <th>installer</th>\n",
       "      <th>longitude</th>\n",
       "      <th>latitude</th>\n",
       "      <th>wpt_name</th>\n",
       "      <th>num_private</th>\n",
       "      <th>...</th>\n",
       "      <th>payment_type</th>\n",
       "      <th>water_quality</th>\n",
       "      <th>quality_group</th>\n",
       "      <th>quantity</th>\n",
       "      <th>quantity_group</th>\n",
       "      <th>source</th>\n",
       "      <th>source_type</th>\n",
       "      <th>source_class</th>\n",
       "      <th>waterpoint_type</th>\n",
       "      <th>waterpoint_type_group</th>\n",
       "    </tr>\n",
       "  </thead>\n",
       "  <tbody>\n",
       "    <tr>\n",
       "      <th>0</th>\n",
       "      <td>69572</td>\n",
       "      <td>6000.0</td>\n",
       "      <td>2011-03-14</td>\n",
       "      <td>Roman</td>\n",
       "      <td>1390</td>\n",
       "      <td>Roman</td>\n",
       "      <td>34.938093</td>\n",
       "      <td>-9.856322</td>\n",
       "      <td>none</td>\n",
       "      <td>0</td>\n",
       "      <td>...</td>\n",
       "      <td>annually</td>\n",
       "      <td>soft</td>\n",
       "      <td>good</td>\n",
       "      <td>enough</td>\n",
       "      <td>enough</td>\n",
       "      <td>spring</td>\n",
       "      <td>spring</td>\n",
       "      <td>groundwater</td>\n",
       "      <td>communal standpipe</td>\n",
       "      <td>communal standpipe</td>\n",
       "    </tr>\n",
       "    <tr>\n",
       "      <th>1</th>\n",
       "      <td>8776</td>\n",
       "      <td>0.0</td>\n",
       "      <td>2013-03-06</td>\n",
       "      <td>Grumeti</td>\n",
       "      <td>1399</td>\n",
       "      <td>GRUMETI</td>\n",
       "      <td>34.698766</td>\n",
       "      <td>-2.147466</td>\n",
       "      <td>Zahanati</td>\n",
       "      <td>0</td>\n",
       "      <td>...</td>\n",
       "      <td>never pay</td>\n",
       "      <td>soft</td>\n",
       "      <td>good</td>\n",
       "      <td>insufficient</td>\n",
       "      <td>insufficient</td>\n",
       "      <td>rainwater harvesting</td>\n",
       "      <td>rainwater harvesting</td>\n",
       "      <td>surface</td>\n",
       "      <td>communal standpipe</td>\n",
       "      <td>communal standpipe</td>\n",
       "    </tr>\n",
       "    <tr>\n",
       "      <th>2</th>\n",
       "      <td>34310</td>\n",
       "      <td>25.0</td>\n",
       "      <td>2013-02-25</td>\n",
       "      <td>Lottery Club</td>\n",
       "      <td>686</td>\n",
       "      <td>World vision</td>\n",
       "      <td>37.460664</td>\n",
       "      <td>-3.821329</td>\n",
       "      <td>Kwa Mahundi</td>\n",
       "      <td>0</td>\n",
       "      <td>...</td>\n",
       "      <td>per bucket</td>\n",
       "      <td>soft</td>\n",
       "      <td>good</td>\n",
       "      <td>enough</td>\n",
       "      <td>enough</td>\n",
       "      <td>dam</td>\n",
       "      <td>dam</td>\n",
       "      <td>surface</td>\n",
       "      <td>communal standpipe multiple</td>\n",
       "      <td>communal standpipe</td>\n",
       "    </tr>\n",
       "    <tr>\n",
       "      <th>3</th>\n",
       "      <td>67743</td>\n",
       "      <td>0.0</td>\n",
       "      <td>2013-01-28</td>\n",
       "      <td>Unicef</td>\n",
       "      <td>263</td>\n",
       "      <td>UNICEF</td>\n",
       "      <td>38.486161</td>\n",
       "      <td>-11.155298</td>\n",
       "      <td>Zahanati Ya Nanyumbu</td>\n",
       "      <td>0</td>\n",
       "      <td>...</td>\n",
       "      <td>never pay</td>\n",
       "      <td>soft</td>\n",
       "      <td>good</td>\n",
       "      <td>dry</td>\n",
       "      <td>dry</td>\n",
       "      <td>machine dbh</td>\n",
       "      <td>borehole</td>\n",
       "      <td>groundwater</td>\n",
       "      <td>communal standpipe multiple</td>\n",
       "      <td>communal standpipe</td>\n",
       "    </tr>\n",
       "    <tr>\n",
       "      <th>4</th>\n",
       "      <td>19728</td>\n",
       "      <td>0.0</td>\n",
       "      <td>2011-07-13</td>\n",
       "      <td>Action In A</td>\n",
       "      <td>0</td>\n",
       "      <td>Artisan</td>\n",
       "      <td>31.130847</td>\n",
       "      <td>-1.825359</td>\n",
       "      <td>Shuleni</td>\n",
       "      <td>0</td>\n",
       "      <td>...</td>\n",
       "      <td>never pay</td>\n",
       "      <td>soft</td>\n",
       "      <td>good</td>\n",
       "      <td>seasonal</td>\n",
       "      <td>seasonal</td>\n",
       "      <td>rainwater harvesting</td>\n",
       "      <td>rainwater harvesting</td>\n",
       "      <td>surface</td>\n",
       "      <td>communal standpipe</td>\n",
       "      <td>communal standpipe</td>\n",
       "    </tr>\n",
       "  </tbody>\n",
       "</table>\n",
       "<p>5 rows × 40 columns</p>\n",
       "</div>"
      ],
      "text/plain": [
       "      id  amount_tsh date_recorded        funder  gps_height     installer  \\\n",
       "0  69572      6000.0    2011-03-14         Roman        1390         Roman   \n",
       "1   8776         0.0    2013-03-06       Grumeti        1399       GRUMETI   \n",
       "2  34310        25.0    2013-02-25  Lottery Club         686  World vision   \n",
       "3  67743         0.0    2013-01-28        Unicef         263        UNICEF   \n",
       "4  19728         0.0    2011-07-13   Action In A           0       Artisan   \n",
       "\n",
       "   longitude   latitude              wpt_name  num_private  ... payment_type  \\\n",
       "0  34.938093  -9.856322                  none            0  ...     annually   \n",
       "1  34.698766  -2.147466              Zahanati            0  ...    never pay   \n",
       "2  37.460664  -3.821329           Kwa Mahundi            0  ...   per bucket   \n",
       "3  38.486161 -11.155298  Zahanati Ya Nanyumbu            0  ...    never pay   \n",
       "4  31.130847  -1.825359               Shuleni            0  ...    never pay   \n",
       "\n",
       "  water_quality quality_group      quantity  quantity_group  \\\n",
       "0          soft          good        enough          enough   \n",
       "1          soft          good  insufficient    insufficient   \n",
       "2          soft          good        enough          enough   \n",
       "3          soft          good           dry             dry   \n",
       "4          soft          good      seasonal        seasonal   \n",
       "\n",
       "                 source           source_type  source_class  \\\n",
       "0                spring                spring   groundwater   \n",
       "1  rainwater harvesting  rainwater harvesting       surface   \n",
       "2                   dam                   dam       surface   \n",
       "3           machine dbh              borehole   groundwater   \n",
       "4  rainwater harvesting  rainwater harvesting       surface   \n",
       "\n",
       "               waterpoint_type waterpoint_type_group  \n",
       "0           communal standpipe    communal standpipe  \n",
       "1           communal standpipe    communal standpipe  \n",
       "2  communal standpipe multiple    communal standpipe  \n",
       "3  communal standpipe multiple    communal standpipe  \n",
       "4           communal standpipe    communal standpipe  \n",
       "\n",
       "[5 rows x 40 columns]"
      ]
     },
     "execution_count": 177,
     "metadata": {},
     "output_type": "execute_result"
    }
   ],
   "source": [
    "df3.head()"
   ]
  },
  {
   "cell_type": "markdown",
   "metadata": {},
   "source": [
    "1.1 Merging the files together"
   ]
  },
  {
   "cell_type": "code",
   "execution_count": 178,
   "metadata": {},
   "outputs": [
    {
     "name": "stdout",
     "output_type": "stream",
     "text": [
      "<class 'pandas.core.frame.DataFrame'>\n",
      "RangeIndex: 59400 entries, 0 to 59399\n",
      "Data columns (total 41 columns):\n",
      " #   Column                 Non-Null Count  Dtype  \n",
      "---  ------                 --------------  -----  \n",
      " 0   id                     59400 non-null  int64  \n",
      " 1   status_group           59400 non-null  object \n",
      " 2   amount_tsh             59400 non-null  float64\n",
      " 3   date_recorded          59400 non-null  object \n",
      " 4   funder                 55763 non-null  object \n",
      " 5   gps_height             59400 non-null  int64  \n",
      " 6   installer              55745 non-null  object \n",
      " 7   longitude              59400 non-null  float64\n",
      " 8   latitude               59400 non-null  float64\n",
      " 9   wpt_name               59398 non-null  object \n",
      " 10  num_private            59400 non-null  int64  \n",
      " 11  basin                  59400 non-null  object \n",
      " 12  subvillage             59029 non-null  object \n",
      " 13  region                 59400 non-null  object \n",
      " 14  region_code            59400 non-null  int64  \n",
      " 15  district_code          59400 non-null  int64  \n",
      " 16  lga                    59400 non-null  object \n",
      " 17  ward                   59400 non-null  object \n",
      " 18  population             59400 non-null  int64  \n",
      " 19  public_meeting         56066 non-null  object \n",
      " 20  recorded_by            59400 non-null  object \n",
      " 21  scheme_management      55522 non-null  object \n",
      " 22  scheme_name            30590 non-null  object \n",
      " 23  permit                 56344 non-null  object \n",
      " 24  construction_year      59400 non-null  int64  \n",
      " 25  extraction_type        59400 non-null  object \n",
      " 26  extraction_type_group  59400 non-null  object \n",
      " 27  extraction_type_class  59400 non-null  object \n",
      " 28  management             59400 non-null  object \n",
      " 29  management_group       59400 non-null  object \n",
      " 30  payment                59400 non-null  object \n",
      " 31  payment_type           59400 non-null  object \n",
      " 32  water_quality          59400 non-null  object \n",
      " 33  quality_group          59400 non-null  object \n",
      " 34  quantity               59400 non-null  object \n",
      " 35  quantity_group         59400 non-null  object \n",
      " 36  source                 59400 non-null  object \n",
      " 37  source_type            59400 non-null  object \n",
      " 38  source_class           59400 non-null  object \n",
      " 39  waterpoint_type        59400 non-null  object \n",
      " 40  waterpoint_type_group  59400 non-null  object \n",
      "dtypes: float64(3), int64(7), object(31)\n",
      "memory usage: 18.6+ MB\n"
     ]
    }
   ],
   "source": [
    "data = pd.merge(df1, df3, on='id', how='inner')\n",
    "data.info()"
   ]
  },
  {
   "cell_type": "markdown",
   "metadata": {},
   "source": [
    "The target feature in this dataset is the 'status_group' feature. This feature is an indicator of whether or not the water well is 'functional', 'functional needs repairs', or 'non functional'.\n",
    "\n",
    "Also this are some of the features we are going to use:\n",
    "\n",
    ".amount_tsh: Amount water available to waterpoint\n",
    "\n",
    ".date_recorded: The date the row was entered\n",
    "\n",
    ".funder: Who funded the well\n",
    "\n",
    ".gps_height: Altitude of the well\n",
    "\n",
    ".installer: Organization that installed the well\n",
    "\n",
    ".longitude: GPS coordinate\n",
    "\n",
    ".latitude: GPS coordinate\n",
    "\n",
    ".wpt_name: Name of the waterpoint if there is one\n",
    "\n",
    "Among others."
   ]
  },
  {
   "cell_type": "code",
   "execution_count": 179,
   "metadata": {},
   "outputs": [
    {
     "data": {
      "text/plain": [
       "id                           0\n",
       "status_group                 0\n",
       "amount_tsh                   0\n",
       "date_recorded                0\n",
       "funder                    3637\n",
       "gps_height                   0\n",
       "installer                 3655\n",
       "longitude                    0\n",
       "latitude                     0\n",
       "wpt_name                     2\n",
       "num_private                  0\n",
       "basin                        0\n",
       "subvillage                 371\n",
       "region                       0\n",
       "region_code                  0\n",
       "district_code                0\n",
       "lga                          0\n",
       "ward                         0\n",
       "population                   0\n",
       "public_meeting            3334\n",
       "recorded_by                  0\n",
       "scheme_management         3878\n",
       "scheme_name              28810\n",
       "permit                    3056\n",
       "construction_year            0\n",
       "extraction_type              0\n",
       "extraction_type_group        0\n",
       "extraction_type_class        0\n",
       "management                   0\n",
       "management_group             0\n",
       "payment                      0\n",
       "payment_type                 0\n",
       "water_quality                0\n",
       "quality_group                0\n",
       "quantity                     0\n",
       "quantity_group               0\n",
       "source                       0\n",
       "source_type                  0\n",
       "source_class                 0\n",
       "waterpoint_type              0\n",
       "waterpoint_type_group        0\n",
       "dtype: int64"
      ]
     },
     "execution_count": 179,
     "metadata": {},
     "output_type": "execute_result"
    }
   ],
   "source": [
    "data.isna().sum()"
   ]
  },
  {
   "cell_type": "code",
   "execution_count": 180,
   "metadata": {},
   "outputs": [
    {
     "data": {
      "text/plain": [
       "target\n",
       "0    32259\n",
       "2    22824\n",
       "1     4317\n",
       "Name: count, dtype: int64"
      ]
     },
     "execution_count": 180,
     "metadata": {},
     "output_type": "execute_result"
    }
   ],
   "source": [
    "data['status_group'] = data['status_group'].astype('category')\n",
    "data['target'] = data['status_group'].cat.codes\n",
    "data['target'].value_counts()"
   ]
  },
  {
   "cell_type": "code",
   "execution_count": 181,
   "metadata": {},
   "outputs": [
    {
     "data": {
      "text/plain": [
       "<Axes: xlabel='status_group'>"
      ]
     },
     "execution_count": 181,
     "metadata": {},
     "output_type": "execute_result"
    },
    {
     "data": {
      "text/plain": [
       "Text(0.5, 1.0, 'Water Pump Status')"
      ]
     },
     "execution_count": 181,
     "metadata": {},
     "output_type": "execute_result"
    },
    {
     "data": {
      "text/plain": [
       "Text(0.5, 0, 'Status of the Water Pump')"
      ]
     },
     "execution_count": 181,
     "metadata": {},
     "output_type": "execute_result"
    },
    {
     "data": {
      "text/plain": [
       "Text(0, 0.5, 'Value Counts')"
      ]
     },
     "execution_count": 181,
     "metadata": {},
     "output_type": "execute_result"
    },
    {
     "data": {
      "image/png": "[encoded data removed]",
      "text/plain": [
       "<Figure size 800x500 with 1 Axes>"
      ]
     },
     "metadata": {},
     "output_type": "display_data"
    }
   ],
   "source": [
    "data['status_group'].value_counts(ascending=False).plot(kind='bar', figsize=(8,5), color=['darkgreen','midnightblue','purple'])\n",
    "plt.title(\"Water Pump Status\", fontweight='bold', fontsize=18)\n",
    "plt.xlabel('Status of the Water Pump', fontweight='bold', fontsize=10) \n",
    "plt.ylabel('Value Counts', fontweight='bold', fontsize=10)  \n",
    "plt.grid(axis='y', linestyle='--', alpha=0.6)  \n",
    "plt.show()\n"
   ]
  },
  {
   "cell_type": "markdown",
   "metadata": {},
   "source": [
    "We see that there is a lot of imbalance among our classes, hence we will combine \"functional needs repair\" and \"non functional\" into one for modelling purpose. Then We will convert our target variable to 0 and 1, so now we can drop 'status_group' while modelling."
   ]
  },
  {
   "cell_type": "code",
   "execution_count": 182,
   "metadata": {},
   "outputs": [
    {
     "data": {
      "text/plain": [
       "status_group\n",
       "functional      32259\n",
       "needs repair    27141\n",
       "Name: count, dtype: int64"
      ]
     },
     "execution_count": 182,
     "metadata": {},
     "output_type": "execute_result"
    }
   ],
   "source": [
    "data['status_group'] = data['status_group'].replace(to_replace =[\"functional needs repair\", \"non functional\"],value =\"needs repair\")\n",
    "data['status_group'].value_counts()"
   ]
  },
  {
   "cell_type": "code",
   "execution_count": 183,
   "metadata": {},
   "outputs": [
    {
     "data": {
      "text/plain": [
       "<Axes: xlabel='status_group'>"
      ]
     },
     "execution_count": 183,
     "metadata": {},
     "output_type": "execute_result"
    },
    {
     "data": {
      "text/plain": [
       "Text(0.5, 1.0, 'Water Pump Status')"
      ]
     },
     "execution_count": 183,
     "metadata": {},
     "output_type": "execute_result"
    },
    {
     "data": {
      "text/plain": [
       "Text(0.5, 0, 'Status of the Water Pump')"
      ]
     },
     "execution_count": 183,
     "metadata": {},
     "output_type": "execute_result"
    },
    {
     "data": {
      "text/plain": [
       "Text(0, 0.5, 'Value Counts')"
      ]
     },
     "execution_count": 183,
     "metadata": {},
     "output_type": "execute_result"
    },
    {
     "data": {
      "image/png": "[encoded data removed]",
      "text/plain": [
       "<Figure size 800x500 with 1 Axes>"
      ]
     },
     "metadata": {},
     "output_type": "display_data"
    }
   ],
   "source": [
    "data['status_group'].value_counts(ascending=False).plot(kind='bar', figsize=(8,5), color=['darkgreen','midnightblue','purple'])\n",
    "plt.title(\"Water Pump Status\", fontweight='bold', fontsize=18)\n",
    "plt.xlabel('Status of the Water Pump', fontweight='bold', fontsize=10) \n",
    "plt.ylabel('Value Counts', fontweight='bold', fontsize=10)  \n",
    "plt.grid(axis='y', linestyle='--', alpha=0.6)  \n",
    "plt.show()"
   ]
  },
  {
   "cell_type": "code",
   "execution_count": 184,
   "metadata": {},
   "outputs": [
    {
     "data": {
      "text/plain": [
       "target\n",
       "0    32259\n",
       "1    27141\n",
       "Name: count, dtype: int64"
      ]
     },
     "execution_count": 184,
     "metadata": {},
     "output_type": "execute_result"
    }
   ],
   "source": [
    "data['status_group'] = data['status_group'].astype('category')\n",
    "data['target'] = data['status_group'].cat.codes\n",
    "data['target'].value_counts()"
   ]
  },
  {
   "cell_type": "code",
   "execution_count": 185,
   "metadata": {},
   "outputs": [
    {
     "data": {
      "text/html": [
       "<div>\n",
       "<style scoped>\n",
       "    .dataframe tbody tr th:only-of-type {\n",
       "        vertical-align: middle;\n",
       "    }\n",
       "\n",
       "    .dataframe tbody tr th {\n",
       "        vertical-align: top;\n",
       "    }\n",
       "\n",
       "    .dataframe thead th {\n",
       "        text-align: right;\n",
       "    }\n",
       "</style>\n",
       "<table border=\"1\" class=\"dataframe\">\n",
       "  <thead>\n",
       "    <tr style=\"text-align: right;\">\n",
       "      <th></th>\n",
       "      <th>id</th>\n",
       "      <th>status_group</th>\n",
       "      <th>amount_tsh</th>\n",
       "      <th>date_recorded</th>\n",
       "      <th>funder</th>\n",
       "      <th>gps_height</th>\n",
       "      <th>installer</th>\n",
       "      <th>longitude</th>\n",
       "      <th>latitude</th>\n",
       "      <th>wpt_name</th>\n",
       "      <th>...</th>\n",
       "      <th>water_quality</th>\n",
       "      <th>quality_group</th>\n",
       "      <th>quantity</th>\n",
       "      <th>quantity_group</th>\n",
       "      <th>source</th>\n",
       "      <th>source_type</th>\n",
       "      <th>source_class</th>\n",
       "      <th>waterpoint_type</th>\n",
       "      <th>waterpoint_type_group</th>\n",
       "      <th>target</th>\n",
       "    </tr>\n",
       "  </thead>\n",
       "  <tbody>\n",
       "    <tr>\n",
       "      <th>0</th>\n",
       "      <td>69572</td>\n",
       "      <td>functional</td>\n",
       "      <td>6000.0</td>\n",
       "      <td>2011-03-14</td>\n",
       "      <td>Roman</td>\n",
       "      <td>1390</td>\n",
       "      <td>Roman</td>\n",
       "      <td>34.938093</td>\n",
       "      <td>-9.856322</td>\n",
       "      <td>none</td>\n",
       "      <td>...</td>\n",
       "      <td>soft</td>\n",
       "      <td>good</td>\n",
       "      <td>enough</td>\n",
       "      <td>enough</td>\n",
       "      <td>spring</td>\n",
       "      <td>spring</td>\n",
       "      <td>groundwater</td>\n",
       "      <td>communal standpipe</td>\n",
       "      <td>communal standpipe</td>\n",
       "      <td>0</td>\n",
       "    </tr>\n",
       "    <tr>\n",
       "      <th>1</th>\n",
       "      <td>8776</td>\n",
       "      <td>functional</td>\n",
       "      <td>0.0</td>\n",
       "      <td>2013-03-06</td>\n",
       "      <td>Grumeti</td>\n",
       "      <td>1399</td>\n",
       "      <td>GRUMETI</td>\n",
       "      <td>34.698766</td>\n",
       "      <td>-2.147466</td>\n",
       "      <td>Zahanati</td>\n",
       "      <td>...</td>\n",
       "      <td>soft</td>\n",
       "      <td>good</td>\n",
       "      <td>insufficient</td>\n",
       "      <td>insufficient</td>\n",
       "      <td>rainwater harvesting</td>\n",
       "      <td>rainwater harvesting</td>\n",
       "      <td>surface</td>\n",
       "      <td>communal standpipe</td>\n",
       "      <td>communal standpipe</td>\n",
       "      <td>0</td>\n",
       "    </tr>\n",
       "    <tr>\n",
       "      <th>2</th>\n",
       "      <td>34310</td>\n",
       "      <td>functional</td>\n",
       "      <td>25.0</td>\n",
       "      <td>2013-02-25</td>\n",
       "      <td>Lottery Club</td>\n",
       "      <td>686</td>\n",
       "      <td>World vision</td>\n",
       "      <td>37.460664</td>\n",
       "      <td>-3.821329</td>\n",
       "      <td>Kwa Mahundi</td>\n",
       "      <td>...</td>\n",
       "      <td>soft</td>\n",
       "      <td>good</td>\n",
       "      <td>enough</td>\n",
       "      <td>enough</td>\n",
       "      <td>dam</td>\n",
       "      <td>dam</td>\n",
       "      <td>surface</td>\n",
       "      <td>communal standpipe multiple</td>\n",
       "      <td>communal standpipe</td>\n",
       "      <td>0</td>\n",
       "    </tr>\n",
       "    <tr>\n",
       "      <th>3</th>\n",
       "      <td>67743</td>\n",
       "      <td>needs repair</td>\n",
       "      <td>0.0</td>\n",
       "      <td>2013-01-28</td>\n",
       "      <td>Unicef</td>\n",
       "      <td>263</td>\n",
       "      <td>UNICEF</td>\n",
       "      <td>38.486161</td>\n",
       "      <td>-11.155298</td>\n",
       "      <td>Zahanati Ya Nanyumbu</td>\n",
       "      <td>...</td>\n",
       "      <td>soft</td>\n",
       "      <td>good</td>\n",
       "      <td>dry</td>\n",
       "      <td>dry</td>\n",
       "      <td>machine dbh</td>\n",
       "      <td>borehole</td>\n",
       "      <td>groundwater</td>\n",
       "      <td>communal standpipe multiple</td>\n",
       "      <td>communal standpipe</td>\n",
       "      <td>1</td>\n",
       "    </tr>\n",
       "    <tr>\n",
       "      <th>4</th>\n",
       "      <td>19728</td>\n",
       "      <td>functional</td>\n",
       "      <td>0.0</td>\n",
       "      <td>2011-07-13</td>\n",
       "      <td>Action In A</td>\n",
       "      <td>0</td>\n",
       "      <td>Artisan</td>\n",
       "      <td>31.130847</td>\n",
       "      <td>-1.825359</td>\n",
       "      <td>Shuleni</td>\n",
       "      <td>...</td>\n",
       "      <td>soft</td>\n",
       "      <td>good</td>\n",
       "      <td>seasonal</td>\n",
       "      <td>seasonal</td>\n",
       "      <td>rainwater harvesting</td>\n",
       "      <td>rainwater harvesting</td>\n",
       "      <td>surface</td>\n",
       "      <td>communal standpipe</td>\n",
       "      <td>communal standpipe</td>\n",
       "      <td>0</td>\n",
       "    </tr>\n",
       "  </tbody>\n",
       "</table>\n",
       "<p>5 rows × 42 columns</p>\n",
       "</div>"
      ],
      "text/plain": [
       "      id  status_group  amount_tsh date_recorded        funder  gps_height  \\\n",
       "0  69572    functional      6000.0    2011-03-14         Roman        1390   \n",
       "1   8776    functional         0.0    2013-03-06       Grumeti        1399   \n",
       "2  34310    functional        25.0    2013-02-25  Lottery Club         686   \n",
       "3  67743  needs repair         0.0    2013-01-28        Unicef         263   \n",
       "4  19728    functional         0.0    2011-07-13   Action In A           0   \n",
       "\n",
       "      installer  longitude   latitude              wpt_name  ...  \\\n",
       "0         Roman  34.938093  -9.856322                  none  ...   \n",
       "1       GRUMETI  34.698766  -2.147466              Zahanati  ...   \n",
       "2  World vision  37.460664  -3.821329           Kwa Mahundi  ...   \n",
       "3        UNICEF  38.486161 -11.155298  Zahanati Ya Nanyumbu  ...   \n",
       "4       Artisan  31.130847  -1.825359               Shuleni  ...   \n",
       "\n",
       "   water_quality quality_group      quantity quantity_group  \\\n",
       "0           soft          good        enough         enough   \n",
       "1           soft          good  insufficient   insufficient   \n",
       "2           soft          good        enough         enough   \n",
       "3           soft          good           dry            dry   \n",
       "4           soft          good      seasonal       seasonal   \n",
       "\n",
       "                 source           source_type source_class  \\\n",
       "0                spring                spring  groundwater   \n",
       "1  rainwater harvesting  rainwater harvesting      surface   \n",
       "2                   dam                   dam      surface   \n",
       "3           machine dbh              borehole  groundwater   \n",
       "4  rainwater harvesting  rainwater harvesting      surface   \n",
       "\n",
       "               waterpoint_type  waterpoint_type_group target  \n",
       "0           communal standpipe     communal standpipe      0  \n",
       "1           communal standpipe     communal standpipe      0  \n",
       "2  communal standpipe multiple     communal standpipe      0  \n",
       "3  communal standpipe multiple     communal standpipe      1  \n",
       "4           communal standpipe     communal standpipe      0  \n",
       "\n",
       "[5 rows x 42 columns]"
      ]
     },
     "execution_count": 185,
     "metadata": {},
     "output_type": "execute_result"
    }
   ],
   "source": [
    "data.head()"
   ]
  },
  {
   "cell_type": "code",
   "execution_count": 186,
   "metadata": {},
   "outputs": [
    {
     "data": {
      "text/plain": [
       "status_group\n",
       "functional      0.543081\n",
       "needs repair    0.456919\n",
       "Name: proportion, dtype: float64"
      ]
     },
     "execution_count": 186,
     "metadata": {},
     "output_type": "execute_result"
    }
   ],
   "source": [
    "data['status_group'].value_counts(normalize=True)"
   ]
  },
  {
   "cell_type": "markdown",
   "metadata": {},
   "source": [
    "We are going to use these numbers as a baseline when comparing subgroups. For example,if a region has less than 54% functionality, we know they are below average and some features within that region are effecting the functionality of the wells.\n",
    "\n",
    "This will help us identify important features more easily, and give us references for further data exploration."
   ]
  },
  {
   "cell_type": "markdown",
   "metadata": {},
   "source": [
    "NOTE. we can drop irrelevant columns here nime opt kuzi ignore tu (John recommend)"
   ]
  },
  {
   "cell_type": "code",
   "execution_count": 187,
   "metadata": {},
   "outputs": [
    {
     "name": "stdout",
     "output_type": "stream",
     "text": [
      "<class 'pandas.core.frame.DataFrame'>\n",
      "RangeIndex: 59400 entries, 0 to 59399\n",
      "Data columns (total 44 columns):\n",
      " #   Column                 Non-Null Count  Dtype   \n",
      "---  ------                 --------------  -----   \n",
      " 0   id                     59400 non-null  int64   \n",
      " 1   status_group           59400 non-null  category\n",
      " 2   amount_tsh             59400 non-null  float64 \n",
      " 3   date_recorded          59400 non-null  object  \n",
      " 4   funder                 55763 non-null  object  \n",
      " 5   gps_height             59400 non-null  int64   \n",
      " 6   installer              55745 non-null  object  \n",
      " 7   longitude              59400 non-null  float64 \n",
      " 8   latitude               59400 non-null  float64 \n",
      " 9   wpt_name               59398 non-null  object  \n",
      " 10  num_private            59400 non-null  int64   \n",
      " 11  basin                  59400 non-null  object  \n",
      " 12  subvillage             59029 non-null  object  \n",
      " 13  region                 59400 non-null  object  \n",
      " 14  region_code            59400 non-null  int64   \n",
      " 15  district_code          59400 non-null  int64   \n",
      " 16  lga                    59400 non-null  object  \n",
      " 17  ward                   59400 non-null  object  \n",
      " 18  population             59400 non-null  int64   \n",
      " 19  public_meeting         56066 non-null  object  \n",
      " 20  recorded_by            59400 non-null  object  \n",
      " 21  scheme_management      55522 non-null  object  \n",
      " 22  scheme_name            30590 non-null  object  \n",
      " 23  permit                 56344 non-null  object  \n",
      " 24  construction_year      59400 non-null  int64   \n",
      " 25  extraction_type        59400 non-null  object  \n",
      " 26  extraction_type_group  59400 non-null  object  \n",
      " 27  extraction_type_class  59400 non-null  object  \n",
      " 28  management             59400 non-null  object  \n",
      " 29  management_group       59400 non-null  object  \n",
      " 30  payment                59400 non-null  object  \n",
      " 31  payment_type           59400 non-null  object  \n",
      " 32  water_quality          59400 non-null  object  \n",
      " 33  quality_group          59400 non-null  object  \n",
      " 34  quantity               59400 non-null  object  \n",
      " 35  quantity_group         59400 non-null  object  \n",
      " 36  source                 59400 non-null  object  \n",
      " 37  source_type            59400 non-null  object  \n",
      " 38  source_class           59400 non-null  object  \n",
      " 39  waterpoint_type        59400 non-null  object  \n",
      " 40  waterpoint_type_group  59400 non-null  object  \n",
      " 41  target                 59400 non-null  int8    \n",
      " 42  functional             59400 non-null  bool    \n",
      " 43  needs repair           59400 non-null  bool    \n",
      "dtypes: bool(2), category(1), float64(3), int64(7), int8(1), object(30)\n",
      "memory usage: 18.4+ MB\n"
     ]
    }
   ],
   "source": [
    "# create dummies for status group to make plotting easier\n",
    "dummies_status = pd.get_dummies(data['status_group'])\n",
    "data = data.join(dummies_status)\n",
    "\n",
    "data.info()"
   ]
  },
  {
   "cell_type": "markdown",
   "metadata": {},
   "source": [
    "### 2. EXPLORATION ON CATEGORICAL FEATURES\n",
    "   #### 2.1 Plotting functions for categorical variables\n",
    "  We run a couple of categorical features which recommend what values/columns to maintain or drop"
   ]
  },
  {
   "cell_type": "code",
   "execution_count": 188,
   "metadata": {},
   "outputs": [],
   "source": [
    "# plotting functions for categorical variables\n",
    "def plot_percent(col):\n",
    "    \"\"\"Plot the mean functionalities of pumps compared to 'col'\n",
    "    \n",
    "    args:\n",
    "        col (str): column name\n",
    "    \"\"\"\n",
    "    if data[col].nunique() > 4:\n",
    "        rows = 2\n",
    "        cols = 1\n",
    "        width = 12 if data[col].nunique() > 12 else data[col].nunique()\n",
    "        height = 14\n",
    "    else:\n",
    "        rows = 1\n",
    "        cols = 2\n",
    "        width = 12\n",
    "        height = 3\n",
    "    fig, ax = plt.subplots(rows, cols, figsize=(width, height))\n",
    "        \n",
    "    for idx, status in enumerate(data['status_group'].unique().tolist()):\n",
    "        data.groupby(col).mean()[status].sort_values().plot.bar(ax=ax[idx])\n",
    "        ax[idx].axhline(y=data[status].mean(), color='r', linestyle='-')\n",
    "        ax[idx].set_title(f\"{status.title()} pumps by {col.title()}\", fontsize=14)\n",
    "        ax[idx].set_ylabel('Percent')\n",
    "        ax[idx].set_xlabel('')\n",
    "        ax[idx].set_ylim(0,data.groupby(col).mean()[status].max()*1.2);\n",
    "    fig.tight_layout()"
   ]
  },
  {
   "cell_type": "code",
   "execution_count": 189,
   "metadata": {},
   "outputs": [
    {
     "name": "stdout",
     "output_type": "stream",
     "text": [
      "Unique Values: 1896\n",
      "Missing Values: 3637/59400\n",
      "Possible Missing Values: 777 (wells with '0' as the value)\n"
     ]
    },
    {
     "data": {
      "text/plain": [
       "funder\n",
       "Government Of Tanzania    9084\n",
       "Danida                    3114\n",
       "Hesawa                    2202\n",
       "Rwssp                     1374\n",
       "World Bank                1349\n",
       "Kkkt                      1287\n",
       "World Vision              1246\n",
       "Unicef                    1057\n",
       "Tasaf                      877\n",
       "District Council           843\n",
       "Dhv                        829\n",
       "Private Individual         826\n",
       "Dwsp                       811\n",
       "0                          777\n",
       "Norad                      765\n",
       "Germany Republi            610\n",
       "Tcrs                       602\n",
       "Ministry Of Water          590\n",
       "Water                      583\n",
       "Dwe                        484\n",
       "Name: count, dtype: int64"
      ]
     },
     "execution_count": 189,
     "metadata": {},
     "output_type": "execute_result"
    },
    {
     "name": "stdout",
     "output_type": "stream",
     "text": [
      "Unique Values: 2145\n",
      "Missing Values: 3655/59400\n",
      "Possible Missing Values: 777 (wells with '0' as the value)\n"
     ]
    },
    {
     "data": {
      "text/plain": [
       "installer\n",
       "DWE                   17402\n",
       "Government             1825\n",
       "RWE                    1206\n",
       "Commu                  1060\n",
       "DANIDA                 1050\n",
       "KKKT                    898\n",
       "Hesawa                  840\n",
       "0                       777\n",
       "TCRS                    707\n",
       "Central government      622\n",
       "CES                     610\n",
       "Community               553\n",
       "DANID                   552\n",
       "District Council        551\n",
       "HESAWA                  539\n",
       "LGA                     408\n",
       "World vision            408\n",
       "WEDECO                  397\n",
       "TASAF                   396\n",
       "District council        392\n",
       "Name: count, dtype: int64"
      ]
     },
     "execution_count": 189,
     "metadata": {},
     "output_type": "execute_result"
    }
   ],
   "source": [
    "# FUNDER\n",
    "print(f\"Unique Values: {data['funder'].nunique()}\")\n",
    "print(f\"Missing Values: {data['funder'].isna().sum()}/{data.shape[0]}\")\n",
    "print(f\"Possible Missing Values: {(data['funder'] == '0').sum()} (wells with '0' as the value)\")\n",
    "data['funder'].value_counts().head(20)\n",
    "\n",
    "#INSTALLER\n",
    "print(f\"Unique Values: {data['installer'].nunique()}\")\n",
    "print(f\"Missing Values: {data['installer'].isna().sum()}/{data.shape[0]}\")\n",
    "print(f\"Possible Missing Values: {(data['installer'] == '0').sum()} (wells with '0' as the value)\")\n",
    "data['installer'].value_counts().head(20)"
   ]
  },
  {
   "cell_type": "markdown",
   "metadata": {},
   "source": [
    "We see that DWE (District Water Engineering) and Govt are the major installers which is similar to our funders."
   ]
  },
  {
   "cell_type": "code",
   "execution_count": 190,
   "metadata": {},
   "outputs": [
    {
     "name": "stdout",
     "output_type": "stream",
     "text": [
      "Basins: 9\n",
      "Region: 21\n",
      "Districts: 20\n",
      "LGAs: 125\n",
      "Wards: 2092\n",
      "Subvillages: 19287\n"
     ]
    }
   ],
   "source": [
    "#WE TRY BASIN CATEGORY\n",
    "print(f\"Basins: {data['basin'].nunique()}\")\n",
    "print(f\"Region: {data['region'].nunique()}\")\n",
    "print(f\"Districts: {data['district_code'].nunique()}\")\n",
    "print(f\"LGAs: {data['lga'].nunique()}\")\n",
    "print(f\"Wards: {data['ward'].nunique()}\")\n",
    "print(f\"Subvillages: {data['subvillage'].nunique()}\")"
   ]
  },
  {
   "cell_type": "code",
   "execution_count": 191,
   "metadata": {},
   "outputs": [
    {
     "data": {
      "text/html": [
       "<div>\n",
       "<style scoped>\n",
       "    .dataframe tbody tr th:only-of-type {\n",
       "        vertical-align: middle;\n",
       "    }\n",
       "\n",
       "    .dataframe tbody tr th {\n",
       "        vertical-align: top;\n",
       "    }\n",
       "\n",
       "    .dataframe thead tr th {\n",
       "        text-align: left;\n",
       "    }\n",
       "\n",
       "    .dataframe thead tr:last-of-type th {\n",
       "        text-align: right;\n",
       "    }\n",
       "</style>\n",
       "<table border=\"1\" class=\"dataframe\">\n",
       "  <thead>\n",
       "    <tr>\n",
       "      <th></th>\n",
       "      <th></th>\n",
       "      <th></th>\n",
       "      <th></th>\n",
       "      <th></th>\n",
       "      <th></th>\n",
       "      <th></th>\n",
       "      <th colspan=\"2\" halign=\"left\">functional</th>\n",
       "      <th colspan=\"2\" halign=\"left\">needs repair</th>\n",
       "    </tr>\n",
       "    <tr>\n",
       "      <th></th>\n",
       "      <th></th>\n",
       "      <th></th>\n",
       "      <th></th>\n",
       "      <th></th>\n",
       "      <th></th>\n",
       "      <th></th>\n",
       "      <th>mean</th>\n",
       "      <th>sum</th>\n",
       "      <th>mean</th>\n",
       "      <th>sum</th>\n",
       "    </tr>\n",
       "    <tr>\n",
       "      <th>basin</th>\n",
       "      <th>region</th>\n",
       "      <th>region_code</th>\n",
       "      <th>district_code</th>\n",
       "      <th>lga</th>\n",
       "      <th>ward</th>\n",
       "      <th>subvillage</th>\n",
       "      <th></th>\n",
       "      <th></th>\n",
       "      <th></th>\n",
       "      <th></th>\n",
       "    </tr>\n",
       "  </thead>\n",
       "  <tbody>\n",
       "    <tr>\n",
       "      <th rowspan=\"5\" valign=\"top\">Internal</th>\n",
       "      <th rowspan=\"5\" valign=\"top\">Arusha</th>\n",
       "      <th rowspan=\"5\" valign=\"top\">2</th>\n",
       "      <th rowspan=\"5\" valign=\"top\">1</th>\n",
       "      <th rowspan=\"5\" valign=\"top\">Monduli</th>\n",
       "      <th rowspan=\"5\" valign=\"top\">Engaruka</th>\n",
       "      <th>Hyhh</th>\n",
       "      <td>0.0</td>\n",
       "      <td>0</td>\n",
       "      <td>1.0</td>\n",
       "      <td>1</td>\n",
       "    </tr>\n",
       "    <tr>\n",
       "      <th>Madukani</th>\n",
       "      <td>0.0</td>\n",
       "      <td>0</td>\n",
       "      <td>1.0</td>\n",
       "      <td>1</td>\n",
       "    </tr>\n",
       "    <tr>\n",
       "      <th>Mkaoo</th>\n",
       "      <td>0.0</td>\n",
       "      <td>0</td>\n",
       "      <td>1.0</td>\n",
       "      <td>3</td>\n",
       "    </tr>\n",
       "    <tr>\n",
       "      <th>Mula</th>\n",
       "      <td>0.0</td>\n",
       "      <td>0</td>\n",
       "      <td>1.0</td>\n",
       "      <td>1</td>\n",
       "    </tr>\n",
       "    <tr>\n",
       "      <th>Mwembeni</th>\n",
       "      <td>0.0</td>\n",
       "      <td>0</td>\n",
       "      <td>1.0</td>\n",
       "      <td>1</td>\n",
       "    </tr>\n",
       "  </tbody>\n",
       "</table>\n",
       "</div>"
      ],
      "text/plain": [
       "                                                                      functional  \\\n",
       "                                                                            mean   \n",
       "basin    region region_code district_code lga     ward     subvillage              \n",
       "Internal Arusha 2           1             Monduli Engaruka Hyhh              0.0   \n",
       "                                                           Madukani          0.0   \n",
       "                                                           Mkaoo             0.0   \n",
       "                                                           Mula              0.0   \n",
       "                                                           Mwembeni          0.0   \n",
       "\n",
       "                                                                           \\\n",
       "                                                                      sum   \n",
       "basin    region region_code district_code lga     ward     subvillage       \n",
       "Internal Arusha 2           1             Monduli Engaruka Hyhh         0   \n",
       "                                                           Madukani     0   \n",
       "                                                           Mkaoo        0   \n",
       "                                                           Mula         0   \n",
       "                                                           Mwembeni     0   \n",
       "\n",
       "                                                                      needs repair  \\\n",
       "                                                                              mean   \n",
       "basin    region region_code district_code lga     ward     subvillage                \n",
       "Internal Arusha 2           1             Monduli Engaruka Hyhh                1.0   \n",
       "                                                           Madukani            1.0   \n",
       "                                                           Mkaoo               1.0   \n",
       "                                                           Mula                1.0   \n",
       "                                                           Mwembeni            1.0   \n",
       "\n",
       "                                                                           \n",
       "                                                                      sum  \n",
       "basin    region region_code district_code lga     ward     subvillage      \n",
       "Internal Arusha 2           1             Monduli Engaruka Hyhh         1  \n",
       "                                                           Madukani     1  \n",
       "                                                           Mkaoo        3  \n",
       "                                                           Mula         1  \n",
       "                                                           Mwembeni     1  "
      ]
     },
     "execution_count": 191,
     "metadata": {},
     "output_type": "execute_result"
    }
   ],
   "source": [
    "data.groupby(['basin', 'region', 'region_code', 'district_code', 'lga', 'ward', 'subvillage'])[\n",
    "    ['functional', 'needs repair']].agg(['mean','sum']).head()"
   ]
  },
  {
   "cell_type": "code",
   "execution_count": 192,
   "metadata": {},
   "outputs": [
    {
     "data": {
      "image/png": "[encoded data removed]",
      "text/plain": [
       "<Figure size 800x500 with 1 Axes>"
      ]
     },
     "metadata": {},
     "output_type": "display_data"
    }
   ],
   "source": [
    "sub_df = data.groupby('basin')['status_group'].value_counts(ascending=True).unstack()\n",
    "sub_df.plot(kind='bar', figsize=(8,5))\n",
    "plt.xlabel(\"Water Source (Basin)\", fontweight='bold')\n",
    "plt.xticks(rotation=45,fontweight='bold')\n",
    "plt.ylabel(\"Pump Functionality\")\n",
    "plt.title('Pump Functionality based on Basin', fontsize=14, fontweight='bold')\n",
    "plt.legend(bbox_to_anchor=(1.0, 0.9), title='Water Quantity');"
   ]
  },
  {
   "cell_type": "code",
   "execution_count": 193,
   "metadata": {},
   "outputs": [
    {
     "data": {
      "image/png": "[encoded data removed]",
      "text/plain": [
       "<Figure size 1000x500 with 1 Axes>"
      ]
     },
     "metadata": {},
     "output_type": "display_data"
    }
   ],
   "source": [
    "source_df = data.groupby('basin')['target'].mean()\n",
    "source_df.sort_values().plot(kind='bar', color=['brown'], figsize=(10,5))\n",
    "plt.xlabel(\"Quality of Water\")\n",
    "plt.xticks(rotation=90)\n",
    "plt.axhline(y=data['target'].mean(),color='gray') \n",
    "plt.ylabel(\"Likelihood of Needing Repairs\")\n",
    "plt.title('Likelihood of Needing Repairs vs. Basin (Water Source)', fontsize=14, fontweight='bold');"
   ]
  },
  {
   "cell_type": "markdown",
   "metadata": {},
   "source": [
    "Lake Nyasa, Pangani, Rufiji seem to have more than 60% of their pumps functioning with a less likelihood of needing repaires."
   ]
  },
  {
   "cell_type": "code",
   "execution_count": 194,
   "metadata": {},
   "outputs": [
    {
     "data": {
      "image/png": "[encoded data removed]",
      "text/plain": [
       "<Figure size 1000x500 with 1 Axes>"
      ]
     },
     "metadata": {},
     "output_type": "display_data"
    }
   ],
   "source": [
    "#REGION\n",
    "sub_df = data.groupby('region')['status_group'].value_counts(ascending=True).unstack()\n",
    "sub_df.plot(kind='bar', figsize=(10,5))\n",
    "plt.xlabel(\"Region\", fontweight='bold')\n",
    "plt.xticks(rotation=45,fontweight='bold')\n",
    "plt.ylabel(\"Pump Functionality Counts\")\n",
    "plt.title('Pump Functionality based on Region', fontsize=14, fontweight='bold')\n",
    "plt.legend(bbox_to_anchor=(1.0, 1.0), title='Water Quantity');\n"
   ]
  },
  {
   "cell_type": "code",
   "execution_count": 195,
   "metadata": {},
   "outputs": [
    {
     "name": "stdout",
     "output_type": "stream",
     "text": [
      "Unique Values: 2\n",
      "Missing Values: 3334/59400\n",
      "Possible Missing Values: 0 (wells with '0' as the value)\n"
     ]
    },
    {
     "data": {
      "image/png": "[encoded data removed]",
      "text/plain": [
       "<Figure size 500x500 with 1 Axes>"
      ]
     },
     "metadata": {},
     "output_type": "display_data"
    }
   ],
   "source": [
    "# PUBLIC MEETING\n",
    "print(f\"Unique Values: {data['public_meeting'].nunique()}\")\n",
    "print(f\"Missing Values: {data['public_meeting'].isna().sum()}/{data.shape[0]}\")\n",
    "print(f\"Possible Missing Values: {(data['public_meeting'] == '0').sum()} (wells with '0' as the value)\")\n",
    "data['public_meeting'].value_counts().head(20)\n",
    "\n",
    "sub_df = data.groupby('public_meeting')['status_group'].value_counts(ascending=False).unstack()\n",
    "sub_df.sort_values(by='public_meeting',ascending=False).plot(kind='bar', figsize=(5,5))\n",
    "plt.xlabel(\"Public Meeting\", fontweight='bold')\n",
    "plt.xticks(rotation=0,fontweight='bold')\n",
    "plt.ylabel(\"Public Meetings\")\n",
    "plt.title('Pump Functionality based on Public Meetings', fontsize=14, fontweight='bold')\n",
    "plt.legend(bbox_to_anchor=(1.0, 1.0), title='Status Group');"
   ]
  },
  {
   "cell_type": "markdown",
   "metadata": {},
   "source": [
    "(HHAHAHhahaha interesting to see meetings do have an impact )now we print  to see wat kind of management work in this meetings"
   ]
  },
  {
   "cell_type": "code",
   "execution_count": 196,
   "metadata": {},
   "outputs": [
    {
     "name": "stdout",
     "output_type": "stream",
     "text": [
      "Unique Values: 12\n",
      "Missing Values: 0/59400\n",
      "Possible Missing Values: 0 (wells with '0' as the value)\n"
     ]
    },
    {
     "data": {
      "text/plain": [
       "management\n",
       "vwc                 40507\n",
       "wug                  6515\n",
       "water board          2933\n",
       "wua                  2535\n",
       "private operator     1971\n",
       "parastatal           1768\n",
       "water authority       904\n",
       "other                 844\n",
       "company               685\n",
       "unknown               561\n",
       "other - school         99\n",
       "trust                  78\n",
       "Name: count, dtype: int64"
      ]
     },
     "execution_count": 196,
     "metadata": {},
     "output_type": "execute_result"
    }
   ],
   "source": [
    "print(f\"Unique Values: {data['management'].nunique()}\")\n",
    "print(f\"Missing Values: {data['management'].isna().sum()}/{data.shape[0]}\")\n",
    "print(f\"Possible Missing Values: {(data['management'] == '0').sum()} (wells with '0' as the value)\")\n",
    "data['management'].value_counts().head(20)"
   ]
  },
  {
   "cell_type": "code",
   "execution_count": 197,
   "metadata": {},
   "outputs": [
    {
     "name": "stdout",
     "output_type": "stream",
     "text": [
      "Unique Values: 12\n",
      "Missing Values: 0/59400\n",
      "Possible Missing Values: 0 (wells with '0' as the value)\n"
     ]
    },
    {
     "data": {
      "text/plain": [
       "management\n",
       "vwc                 40507\n",
       "wug                  6515\n",
       "water board          2933\n",
       "wua                  2535\n",
       "private operator     1971\n",
       "parastatal           1768\n",
       "water authority       904\n",
       "other                 844\n",
       "company               685\n",
       "unknown               561\n",
       "other - school         99\n",
       "trust                  78\n",
       "Name: count, dtype: int64"
      ]
     },
     "execution_count": 197,
     "metadata": {},
     "output_type": "execute_result"
    }
   ],
   "source": [
    "print(f\"Unique Values: {data['management'].nunique()}\")\n",
    "print(f\"Missing Values: {data['management'].isna().sum()}/{data.shape[0]}\")\n",
    "print(f\"Possible Missing Values: {(data['management'] == '0').sum()} (wells with '0' as the value)\")\n",
    "data['management'].value_counts().head(20)"
   ]
  },
  {
   "cell_type": "code",
   "execution_count": 198,
   "metadata": {},
   "outputs": [
    {
     "data": {
      "text/html": [
       "<div>\n",
       "<style scoped>\n",
       "    .dataframe tbody tr th:only-of-type {\n",
       "        vertical-align: middle;\n",
       "    }\n",
       "\n",
       "    .dataframe tbody tr th {\n",
       "        vertical-align: top;\n",
       "    }\n",
       "\n",
       "    .dataframe thead th {\n",
       "        text-align: right;\n",
       "    }\n",
       "</style>\n",
       "<table border=\"1\" class=\"dataframe\">\n",
       "  <thead>\n",
       "    <tr style=\"text-align: right;\">\n",
       "      <th></th>\n",
       "      <th></th>\n",
       "      <th>functional</th>\n",
       "      <th>needs repair</th>\n",
       "    </tr>\n",
       "    <tr>\n",
       "      <th>management_group</th>\n",
       "      <th>management</th>\n",
       "      <th></th>\n",
       "      <th></th>\n",
       "    </tr>\n",
       "  </thead>\n",
       "  <tbody>\n",
       "    <tr>\n",
       "      <th rowspan=\"4\" valign=\"top\">commercial</th>\n",
       "      <th>company</th>\n",
       "      <td>0.389781</td>\n",
       "      <td>0.610219</td>\n",
       "    </tr>\n",
       "    <tr>\n",
       "      <th>private operator</th>\n",
       "      <td>0.748858</td>\n",
       "      <td>0.251142</td>\n",
       "    </tr>\n",
       "    <tr>\n",
       "      <th>trust</th>\n",
       "      <td>0.589744</td>\n",
       "      <td>0.410256</td>\n",
       "    </tr>\n",
       "    <tr>\n",
       "      <th>water authority</th>\n",
       "      <td>0.493363</td>\n",
       "      <td>0.506637</td>\n",
       "    </tr>\n",
       "    <tr>\n",
       "      <th rowspan=\"2\" valign=\"top\">other</th>\n",
       "      <th>other</th>\n",
       "      <td>0.598341</td>\n",
       "      <td>0.401659</td>\n",
       "    </tr>\n",
       "    <tr>\n",
       "      <th>other - school</th>\n",
       "      <td>0.232323</td>\n",
       "      <td>0.767677</td>\n",
       "    </tr>\n",
       "    <tr>\n",
       "      <th>parastatal</th>\n",
       "      <th>parastatal</th>\n",
       "      <td>0.576923</td>\n",
       "      <td>0.423077</td>\n",
       "    </tr>\n",
       "    <tr>\n",
       "      <th>unknown</th>\n",
       "      <th>unknown</th>\n",
       "      <td>0.399287</td>\n",
       "      <td>0.600713</td>\n",
       "    </tr>\n",
       "    <tr>\n",
       "      <th rowspan=\"4\" valign=\"top\">user-group</th>\n",
       "      <th>vwc</th>\n",
       "      <td>0.504234</td>\n",
       "      <td>0.495766</td>\n",
       "    </tr>\n",
       "    <tr>\n",
       "      <th>water board</th>\n",
       "      <td>0.739857</td>\n",
       "      <td>0.260143</td>\n",
       "    </tr>\n",
       "    <tr>\n",
       "      <th>wua</th>\n",
       "      <td>0.690730</td>\n",
       "      <td>0.309270</td>\n",
       "    </tr>\n",
       "    <tr>\n",
       "      <th>wug</th>\n",
       "      <td>0.599540</td>\n",
       "      <td>0.400460</td>\n",
       "    </tr>\n",
       "  </tbody>\n",
       "</table>\n",
       "</div>"
      ],
      "text/plain": [
       "                                   functional  needs repair\n",
       "management_group management                                \n",
       "commercial       company             0.389781      0.610219\n",
       "                 private operator    0.748858      0.251142\n",
       "                 trust               0.589744      0.410256\n",
       "                 water authority     0.493363      0.506637\n",
       "other            other               0.598341      0.401659\n",
       "                 other - school      0.232323      0.767677\n",
       "parastatal       parastatal          0.576923      0.423077\n",
       "unknown          unknown             0.399287      0.600713\n",
       "user-group       vwc                 0.504234      0.495766\n",
       "                 water board         0.739857      0.260143\n",
       "                 wua                 0.690730      0.309270\n",
       "                 wug                 0.599540      0.400460"
      ]
     },
     "execution_count": 198,
     "metadata": {},
     "output_type": "execute_result"
    }
   ],
   "source": [
    "data.groupby(['management_group', 'management'])[['functional', 'needs repair']].mean()"
   ]
  },
  {
   "cell_type": "code",
   "execution_count": 199,
   "metadata": {},
   "outputs": [
    {
     "name": "stdout",
     "output_type": "stream",
     "text": [
      "Unique Values: 7\n",
      "Missing Values: 0/59400\n",
      "Possible Missing Values: 0 (wells with '0' as the value)\n"
     ]
    },
    {
     "data": {
      "text/plain": [
       "payment\n",
       "never pay                25348\n",
       "pay per bucket            8985\n",
       "pay monthly               8300\n",
       "unknown                   8157\n",
       "pay when scheme fails     3914\n",
       "pay annually              3642\n",
       "other                     1054\n",
       "Name: count, dtype: int64"
      ]
     },
     "execution_count": 199,
     "metadata": {},
     "output_type": "execute_result"
    },
    {
     "name": "stdout",
     "output_type": "stream",
     "text": [
      "Unique Values: 7\n",
      "Missing Values: 0/59400\n",
      "Possible Missing Values: 0 (wells with '0' as the value)\n"
     ]
    },
    {
     "data": {
      "text/plain": [
       "payment_type\n",
       "never pay     25348\n",
       "per bucket     8985\n",
       "monthly        8300\n",
       "unknown        8157\n",
       "on failure     3914\n",
       "annually       3642\n",
       "other          1054\n",
       "Name: count, dtype: int64"
      ]
     },
     "execution_count": 199,
     "metadata": {},
     "output_type": "execute_result"
    }
   ],
   "source": [
    "# PAYMENT\n",
    "print(f\"Unique Values: {data['payment'].nunique()}\")\n",
    "print(f\"Missing Values: {data['payment'].isna().sum()}/{data.shape[0]}\")\n",
    "print(f\"Possible Missing Values: {(data['payment'] == '0').sum()} (wells with '0' as the value)\")\n",
    "data['payment'].value_counts().head(20)\n",
    "\n",
    "print(f\"Unique Values: {data['payment_type'].nunique()}\")\n",
    "print(f\"Missing Values: {data['payment_type'].isna().sum()}/{data.shape[0]}\")\n",
    "print(f\"Possible Missing Values: {(data['payment_type'] == '0').sum()} (wells with '0' as the value)\")\n",
    "data['payment_type'].value_counts().head(20)"
   ]
  },
  {
   "cell_type": "markdown",
   "metadata": {},
   "source": [
    "payment_type - similar to payment.Hence we will be dropping payment_type"
   ]
  },
  {
   "cell_type": "markdown",
   "metadata": {},
   "source": [
    "### 2.1 . EXPLORATION ON NON-CATEGORICAL FEATURES"
   ]
  },
  {
   "cell_type": "code",
   "execution_count": 200,
   "metadata": {},
   "outputs": [
    {
     "name": "stdout",
     "output_type": "stream",
     "text": [
      "Unique Values: 2428\n",
      "Missing Values: 0/59400\n",
      "Possible Missing Values: 0 (wells with '0' as the value)\n"
     ]
    },
    {
     "data": {
      "text/plain": [
       "gps_height\n",
       " 0       20438\n",
       "-15         60\n",
       "-16         55\n",
       "-13         55\n",
       " 1290       52\n",
       "-20         52\n",
       "-14         51\n",
       " 303        51\n",
       "-18         49\n",
       "-19         47\n",
       " 1295       46\n",
       " 1269       46\n",
       " 1304       45\n",
       "-23         45\n",
       " 280        44\n",
       " 1538       44\n",
       "-8          44\n",
       " 1286       44\n",
       "-17         44\n",
       " 320        43\n",
       "Name: count, dtype: int64"
      ]
     },
     "execution_count": 200,
     "metadata": {},
     "output_type": "execute_result"
    }
   ],
   "source": [
    "# GPS-HEIGHT\n",
    "print(f\"Unique Values: {data['gps_height'].nunique()}\")\n",
    "print(f\"Missing Values: {data['gps_height'].isna().sum()}/{data.shape[0]}\")\n",
    "print(f\"Possible Missing Values: {(data['gps_height'] == '0').sum()} (wells with '0' as the value)\")\n",
    "data['gps_height'].value_counts().head(20)"
   ]
  },
  {
   "cell_type": "code",
   "execution_count": 201,
   "metadata": {},
   "outputs": [
    {
     "data": {
      "image/png": "[encoded data removed]",
      "text/plain": [
       "<Figure size 800x550 with 1 Axes>"
      ]
     },
     "metadata": {},
     "output_type": "display_data"
    }
   ],
   "source": [
    "fig, ax = plt.subplots(1)\n",
    "sns.regplot(x='gps_height', y='target', data=data[(data['gps_height'] != 0)], ax=ax)\n",
    "ax.set_yticks([0, 1])\n",
    "plt.title('Well Status and GPS Height', fontsize=14, fontweight='bold');"
   ]
  },
  {
   "cell_type": "markdown",
   "metadata": {},
   "source": [
    "definitely a strong relationship (hapa come with words)"
   ]
  },
  {
   "cell_type": "code",
   "execution_count": 202,
   "metadata": {},
   "outputs": [
    {
     "name": "stdout",
     "output_type": "stream",
     "text": [
      "Unique Values: 98\n",
      "Missing Values: 0/59400\n",
      "Possible Missing Values: 0 (wells with '0' as the value)\n"
     ]
    },
    {
     "data": {
      "text/plain": [
       "amount_tsh\n",
       "0.0       41639\n",
       "500.0      3102\n",
       "50.0       2472\n",
       "1000.0     1488\n",
       "20.0       1463\n",
       "200.0      1220\n",
       "100.0       816\n",
       "10.0        806\n",
       "30.0        743\n",
       "2000.0      704\n",
       "250.0       569\n",
       "300.0       557\n",
       "5000.0      450\n",
       "5.0         376\n",
       "25.0        356\n",
       "3000.0      334\n",
       "1200.0      267\n",
       "1500.0      197\n",
       "6.0         190\n",
       "600.0       176\n",
       "Name: count, dtype: int64"
      ]
     },
     "execution_count": 202,
     "metadata": {},
     "output_type": "execute_result"
    }
   ],
   "source": [
    "#AMOUNT-TSH\n",
    "print(f\"Unique Values: {data['amount_tsh'].nunique()}\")\n",
    "print(f\"Missing Values: {data['amount_tsh'].isna().sum()}/{data.shape[0]}\")\n",
    "print(f\"Possible Missing Values: {(data['amount_tsh'] == '0').sum()} (wells with '0' as the value)\")\n",
    "data['amount_tsh'].value_counts().head(20)"
   ]
  },
  {
   "cell_type": "markdown",
   "metadata": {},
   "source": [
    "Since 90% of the data is 0's, we will be dropping this when modelling.\n"
   ]
  },
  {
   "cell_type": "code",
   "execution_count": 203,
   "metadata": {},
   "outputs": [
    {
     "name": "stdout",
     "output_type": "stream",
     "text": [
      "Unique Values: 55\n",
      "Missing Values: 0/59400\n",
      "Possible Missing Values: 0 (wells with '0' as the value)\n"
     ]
    },
    {
     "data": {
      "text/plain": [
       "construction_year\n",
       "0       20709\n",
       "2010     2645\n",
       "2008     2613\n",
       "2009     2533\n",
       "2000     2091\n",
       "2007     1587\n",
       "2006     1471\n",
       "2003     1286\n",
       "2011     1256\n",
       "2004     1123\n",
       "2012     1084\n",
       "2002     1075\n",
       "1978     1037\n",
       "1995     1014\n",
       "2005     1011\n",
       "1999      979\n",
       "1998      966\n",
       "1990      954\n",
       "1985      945\n",
       "1980      811\n",
       "Name: count, dtype: int64"
      ]
     },
     "execution_count": 203,
     "metadata": {},
     "output_type": "execute_result"
    }
   ],
   "source": [
    "#CONSTRUCTION YEAR\n",
    "print(f\"Unique Values: {data['construction_year'].nunique()}\")\n",
    "print(f\"Missing Values: {data['construction_year'].isna().sum()}/{data.shape[0]}\")\n",
    "print(f\"Possible Missing Values: {(data['construction_year'] == '0').sum()} (wells with '0' as the value)\")\n",
    "data['construction_year'].value_counts().head(20)"
   ]
  },
  {
   "cell_type": "markdown",
   "metadata": {},
   "source": [
    "We create a new column to better understand the con_ year better"
   ]
  },
  {
   "cell_type": "code",
   "execution_count": 204,
   "metadata": {},
   "outputs": [
    {
     "data": {
      "text/plain": [
       "age_of_well\n",
       "2024    20709\n",
       "14       2645\n",
       "16       2613\n",
       "15       2533\n",
       "24       2091\n",
       "17       1587\n",
       "18       1471\n",
       "21       1286\n",
       "13       1256\n",
       "20       1123\n",
       "12       1084\n",
       "22       1075\n",
       "46       1037\n",
       "29       1014\n",
       "19       1011\n",
       "25        979\n",
       "26        966\n",
       "34        954\n",
       "39        945\n",
       "44        811\n",
       "28        811\n",
       "40        779\n",
       "42        744\n",
       "30        738\n",
       "52        708\n",
       "50        676\n",
       "27        644\n",
       "32        640\n",
       "31        608\n",
       "23        540\n",
       "36        521\n",
       "41        488\n",
       "49        437\n",
       "38        434\n",
       "48        414\n",
       "54        411\n",
       "33        324\n",
       "35        316\n",
       "37        302\n",
       "43        238\n",
       "47        202\n",
       "45        192\n",
       "51        184\n",
       "11        176\n",
       "53        145\n",
       "64        102\n",
       "57         88\n",
       "61         85\n",
       "56         77\n",
       "55         59\n",
       "60         40\n",
       "62         30\n",
       "63         21\n",
       "59         19\n",
       "58         17\n",
       "Name: count, dtype: int64"
      ]
     },
     "execution_count": 204,
     "metadata": {},
     "output_type": "execute_result"
    }
   ],
   "source": [
    "from datetime import datetime\n",
    "data['age_of_well']=datetime.now().year - data['construction_year']\n",
    "\n",
    "data['age_of_well'].value_counts()"
   ]
  },
  {
   "cell_type": "code",
   "execution_count": 205,
   "metadata": {},
   "outputs": [
    {
     "data": {
      "text/html": [
       "<div>\n",
       "<style scoped>\n",
       "    .dataframe tbody tr th:only-of-type {\n",
       "        vertical-align: middle;\n",
       "    }\n",
       "\n",
       "    .dataframe tbody tr th {\n",
       "        vertical-align: top;\n",
       "    }\n",
       "\n",
       "    .dataframe thead th {\n",
       "        text-align: right;\n",
       "    }\n",
       "</style>\n",
       "<table border=\"1\" class=\"dataframe\">\n",
       "  <thead>\n",
       "    <tr style=\"text-align: right;\">\n",
       "      <th></th>\n",
       "      <th>id</th>\n",
       "      <th>status_group</th>\n",
       "      <th>amount_tsh</th>\n",
       "      <th>date_recorded</th>\n",
       "      <th>funder</th>\n",
       "      <th>gps_height</th>\n",
       "      <th>installer</th>\n",
       "      <th>longitude</th>\n",
       "      <th>latitude</th>\n",
       "      <th>wpt_name</th>\n",
       "      <th>...</th>\n",
       "      <th>quantity_group</th>\n",
       "      <th>source</th>\n",
       "      <th>source_type</th>\n",
       "      <th>source_class</th>\n",
       "      <th>waterpoint_type</th>\n",
       "      <th>waterpoint_type_group</th>\n",
       "      <th>target</th>\n",
       "      <th>functional</th>\n",
       "      <th>needs repair</th>\n",
       "      <th>age_of_well</th>\n",
       "    </tr>\n",
       "  </thead>\n",
       "  <tbody>\n",
       "    <tr>\n",
       "      <th>0</th>\n",
       "      <td>69572</td>\n",
       "      <td>functional</td>\n",
       "      <td>6000.0</td>\n",
       "      <td>2011-03-14</td>\n",
       "      <td>Roman</td>\n",
       "      <td>1390</td>\n",
       "      <td>Roman</td>\n",
       "      <td>34.938093</td>\n",
       "      <td>-9.856322</td>\n",
       "      <td>none</td>\n",
       "      <td>...</td>\n",
       "      <td>enough</td>\n",
       "      <td>spring</td>\n",
       "      <td>spring</td>\n",
       "      <td>groundwater</td>\n",
       "      <td>communal standpipe</td>\n",
       "      <td>communal standpipe</td>\n",
       "      <td>0</td>\n",
       "      <td>True</td>\n",
       "      <td>False</td>\n",
       "      <td>25</td>\n",
       "    </tr>\n",
       "    <tr>\n",
       "      <th>1</th>\n",
       "      <td>8776</td>\n",
       "      <td>functional</td>\n",
       "      <td>0.0</td>\n",
       "      <td>2013-03-06</td>\n",
       "      <td>Grumeti</td>\n",
       "      <td>1399</td>\n",
       "      <td>GRUMETI</td>\n",
       "      <td>34.698766</td>\n",
       "      <td>-2.147466</td>\n",
       "      <td>Zahanati</td>\n",
       "      <td>...</td>\n",
       "      <td>insufficient</td>\n",
       "      <td>rainwater harvesting</td>\n",
       "      <td>rainwater harvesting</td>\n",
       "      <td>surface</td>\n",
       "      <td>communal standpipe</td>\n",
       "      <td>communal standpipe</td>\n",
       "      <td>0</td>\n",
       "      <td>True</td>\n",
       "      <td>False</td>\n",
       "      <td>14</td>\n",
       "    </tr>\n",
       "    <tr>\n",
       "      <th>2</th>\n",
       "      <td>34310</td>\n",
       "      <td>functional</td>\n",
       "      <td>25.0</td>\n",
       "      <td>2013-02-25</td>\n",
       "      <td>Lottery Club</td>\n",
       "      <td>686</td>\n",
       "      <td>World vision</td>\n",
       "      <td>37.460664</td>\n",
       "      <td>-3.821329</td>\n",
       "      <td>Kwa Mahundi</td>\n",
       "      <td>...</td>\n",
       "      <td>enough</td>\n",
       "      <td>dam</td>\n",
       "      <td>dam</td>\n",
       "      <td>surface</td>\n",
       "      <td>communal standpipe multiple</td>\n",
       "      <td>communal standpipe</td>\n",
       "      <td>0</td>\n",
       "      <td>True</td>\n",
       "      <td>False</td>\n",
       "      <td>15</td>\n",
       "    </tr>\n",
       "    <tr>\n",
       "      <th>3</th>\n",
       "      <td>67743</td>\n",
       "      <td>needs repair</td>\n",
       "      <td>0.0</td>\n",
       "      <td>2013-01-28</td>\n",
       "      <td>Unicef</td>\n",
       "      <td>263</td>\n",
       "      <td>UNICEF</td>\n",
       "      <td>38.486161</td>\n",
       "      <td>-11.155298</td>\n",
       "      <td>Zahanati Ya Nanyumbu</td>\n",
       "      <td>...</td>\n",
       "      <td>dry</td>\n",
       "      <td>machine dbh</td>\n",
       "      <td>borehole</td>\n",
       "      <td>groundwater</td>\n",
       "      <td>communal standpipe multiple</td>\n",
       "      <td>communal standpipe</td>\n",
       "      <td>1</td>\n",
       "      <td>False</td>\n",
       "      <td>True</td>\n",
       "      <td>38</td>\n",
       "    </tr>\n",
       "    <tr>\n",
       "      <th>10</th>\n",
       "      <td>49056</td>\n",
       "      <td>functional</td>\n",
       "      <td>0.0</td>\n",
       "      <td>2011-02-20</td>\n",
       "      <td>Private</td>\n",
       "      <td>62</td>\n",
       "      <td>Private</td>\n",
       "      <td>39.209518</td>\n",
       "      <td>-7.034139</td>\n",
       "      <td>Mzee Hokororo</td>\n",
       "      <td>...</td>\n",
       "      <td>enough</td>\n",
       "      <td>machine dbh</td>\n",
       "      <td>borehole</td>\n",
       "      <td>groundwater</td>\n",
       "      <td>other</td>\n",
       "      <td>other</td>\n",
       "      <td>0</td>\n",
       "      <td>True</td>\n",
       "      <td>False</td>\n",
       "      <td>13</td>\n",
       "    </tr>\n",
       "    <tr>\n",
       "      <th>...</th>\n",
       "      <td>...</td>\n",
       "      <td>...</td>\n",
       "      <td>...</td>\n",
       "      <td>...</td>\n",
       "      <td>...</td>\n",
       "      <td>...</td>\n",
       "      <td>...</td>\n",
       "      <td>...</td>\n",
       "      <td>...</td>\n",
       "      <td>...</td>\n",
       "      <td>...</td>\n",
       "      <td>...</td>\n",
       "      <td>...</td>\n",
       "      <td>...</td>\n",
       "      <td>...</td>\n",
       "      <td>...</td>\n",
       "      <td>...</td>\n",
       "      <td>...</td>\n",
       "      <td>...</td>\n",
       "      <td>...</td>\n",
       "      <td>...</td>\n",
       "    </tr>\n",
       "    <tr>\n",
       "      <th>59391</th>\n",
       "      <td>44885</td>\n",
       "      <td>needs repair</td>\n",
       "      <td>0.0</td>\n",
       "      <td>2013-08-03</td>\n",
       "      <td>Government Of Tanzania</td>\n",
       "      <td>540</td>\n",
       "      <td>Government</td>\n",
       "      <td>38.044070</td>\n",
       "      <td>-4.272218</td>\n",
       "      <td>Kwa</td>\n",
       "      <td>...</td>\n",
       "      <td>enough</td>\n",
       "      <td>river</td>\n",
       "      <td>river/lake</td>\n",
       "      <td>surface</td>\n",
       "      <td>communal standpipe</td>\n",
       "      <td>communal standpipe</td>\n",
       "      <td>1</td>\n",
       "      <td>False</td>\n",
       "      <td>True</td>\n",
       "      <td>57</td>\n",
       "    </tr>\n",
       "    <tr>\n",
       "      <th>59394</th>\n",
       "      <td>11164</td>\n",
       "      <td>needs repair</td>\n",
       "      <td>500.0</td>\n",
       "      <td>2011-03-09</td>\n",
       "      <td>World Bank</td>\n",
       "      <td>351</td>\n",
       "      <td>ML appro</td>\n",
       "      <td>37.634053</td>\n",
       "      <td>-6.124830</td>\n",
       "      <td>Chimeredya</td>\n",
       "      <td>...</td>\n",
       "      <td>enough</td>\n",
       "      <td>machine dbh</td>\n",
       "      <td>borehole</td>\n",
       "      <td>groundwater</td>\n",
       "      <td>communal standpipe</td>\n",
       "      <td>communal standpipe</td>\n",
       "      <td>1</td>\n",
       "      <td>False</td>\n",
       "      <td>True</td>\n",
       "      <td>17</td>\n",
       "    </tr>\n",
       "    <tr>\n",
       "      <th>59395</th>\n",
       "      <td>60739</td>\n",
       "      <td>functional</td>\n",
       "      <td>10.0</td>\n",
       "      <td>2013-05-03</td>\n",
       "      <td>Germany Republi</td>\n",
       "      <td>1210</td>\n",
       "      <td>CES</td>\n",
       "      <td>37.169807</td>\n",
       "      <td>-3.253847</td>\n",
       "      <td>Area Three Namba 27</td>\n",
       "      <td>...</td>\n",
       "      <td>enough</td>\n",
       "      <td>spring</td>\n",
       "      <td>spring</td>\n",
       "      <td>groundwater</td>\n",
       "      <td>communal standpipe</td>\n",
       "      <td>communal standpipe</td>\n",
       "      <td>0</td>\n",
       "      <td>True</td>\n",
       "      <td>False</td>\n",
       "      <td>25</td>\n",
       "    </tr>\n",
       "    <tr>\n",
       "      <th>59396</th>\n",
       "      <td>27263</td>\n",
       "      <td>functional</td>\n",
       "      <td>4700.0</td>\n",
       "      <td>2011-05-07</td>\n",
       "      <td>Cefa-njombe</td>\n",
       "      <td>1212</td>\n",
       "      <td>Cefa</td>\n",
       "      <td>35.249991</td>\n",
       "      <td>-9.070629</td>\n",
       "      <td>Kwa Yahona Kuvala</td>\n",
       "      <td>...</td>\n",
       "      <td>enough</td>\n",
       "      <td>river</td>\n",
       "      <td>river/lake</td>\n",
       "      <td>surface</td>\n",
       "      <td>communal standpipe</td>\n",
       "      <td>communal standpipe</td>\n",
       "      <td>0</td>\n",
       "      <td>True</td>\n",
       "      <td>False</td>\n",
       "      <td>28</td>\n",
       "    </tr>\n",
       "    <tr>\n",
       "      <th>59399</th>\n",
       "      <td>26348</td>\n",
       "      <td>functional</td>\n",
       "      <td>0.0</td>\n",
       "      <td>2011-03-23</td>\n",
       "      <td>World Bank</td>\n",
       "      <td>191</td>\n",
       "      <td>World</td>\n",
       "      <td>38.104048</td>\n",
       "      <td>-6.747464</td>\n",
       "      <td>Kwa Mzee Lugawa</td>\n",
       "      <td>...</td>\n",
       "      <td>enough</td>\n",
       "      <td>shallow well</td>\n",
       "      <td>shallow well</td>\n",
       "      <td>groundwater</td>\n",
       "      <td>hand pump</td>\n",
       "      <td>hand pump</td>\n",
       "      <td>0</td>\n",
       "      <td>True</td>\n",
       "      <td>False</td>\n",
       "      <td>22</td>\n",
       "    </tr>\n",
       "  </tbody>\n",
       "</table>\n",
       "<p>35319 rows × 45 columns</p>\n",
       "</div>"
      ],
      "text/plain": [
       "          id  status_group  amount_tsh date_recorded                  funder  \\\n",
       "0      69572    functional      6000.0    2011-03-14                   Roman   \n",
       "1       8776    functional         0.0    2013-03-06                 Grumeti   \n",
       "2      34310    functional        25.0    2013-02-25            Lottery Club   \n",
       "3      67743  needs repair         0.0    2013-01-28                  Unicef   \n",
       "10     49056    functional         0.0    2011-02-20                 Private   \n",
       "...      ...           ...         ...           ...                     ...   \n",
       "59391  44885  needs repair         0.0    2013-08-03  Government Of Tanzania   \n",
       "59394  11164  needs repair       500.0    2011-03-09              World Bank   \n",
       "59395  60739    functional        10.0    2013-05-03         Germany Republi   \n",
       "59396  27263    functional      4700.0    2011-05-07             Cefa-njombe   \n",
       "59399  26348    functional         0.0    2011-03-23              World Bank   \n",
       "\n",
       "       gps_height     installer  longitude   latitude              wpt_name  \\\n",
       "0            1390         Roman  34.938093  -9.856322                  none   \n",
       "1            1399       GRUMETI  34.698766  -2.147466              Zahanati   \n",
       "2             686  World vision  37.460664  -3.821329           Kwa Mahundi   \n",
       "3             263        UNICEF  38.486161 -11.155298  Zahanati Ya Nanyumbu   \n",
       "10             62       Private  39.209518  -7.034139         Mzee Hokororo   \n",
       "...           ...           ...        ...        ...                   ...   \n",
       "59391         540    Government  38.044070  -4.272218                   Kwa   \n",
       "59394         351      ML appro  37.634053  -6.124830            Chimeredya   \n",
       "59395        1210           CES  37.169807  -3.253847   Area Three Namba 27   \n",
       "59396        1212          Cefa  35.249991  -9.070629     Kwa Yahona Kuvala   \n",
       "59399         191         World  38.104048  -6.747464       Kwa Mzee Lugawa   \n",
       "\n",
       "       ...  quantity_group                source           source_type  \\\n",
       "0      ...          enough                spring                spring   \n",
       "1      ...    insufficient  rainwater harvesting  rainwater harvesting   \n",
       "2      ...          enough                   dam                   dam   \n",
       "3      ...             dry           machine dbh              borehole   \n",
       "10     ...          enough           machine dbh              borehole   \n",
       "...    ...             ...                   ...                   ...   \n",
       "59391  ...          enough                 river            river/lake   \n",
       "59394  ...          enough           machine dbh              borehole   \n",
       "59395  ...          enough                spring                spring   \n",
       "59396  ...          enough                 river            river/lake   \n",
       "59399  ...          enough          shallow well          shallow well   \n",
       "\n",
       "      source_class              waterpoint_type  waterpoint_type_group target  \\\n",
       "0      groundwater           communal standpipe     communal standpipe      0   \n",
       "1          surface           communal standpipe     communal standpipe      0   \n",
       "2          surface  communal standpipe multiple     communal standpipe      0   \n",
       "3      groundwater  communal standpipe multiple     communal standpipe      1   \n",
       "10     groundwater                        other                  other      0   \n",
       "...            ...                          ...                    ...    ...   \n",
       "59391      surface           communal standpipe     communal standpipe      1   \n",
       "59394  groundwater           communal standpipe     communal standpipe      1   \n",
       "59395  groundwater           communal standpipe     communal standpipe      0   \n",
       "59396      surface           communal standpipe     communal standpipe      0   \n",
       "59399  groundwater                    hand pump              hand pump      0   \n",
       "\n",
       "      functional  needs repair age_of_well  \n",
       "0           True         False          25  \n",
       "1           True         False          14  \n",
       "2           True         False          15  \n",
       "3          False          True          38  \n",
       "10          True         False          13  \n",
       "...          ...           ...         ...  \n",
       "59391      False          True          57  \n",
       "59394      False          True          17  \n",
       "59395       True         False          25  \n",
       "59396       True         False          28  \n",
       "59399       True         False          22  \n",
       "\n",
       "[35319 rows x 45 columns]"
      ]
     },
     "execution_count": 205,
     "metadata": {},
     "output_type": "execute_result"
    }
   ],
   "source": [
    "data = data[(data['construction_year'] > 0) & (data['population'] > 0) & (data['gps_height'] > 0)]\n",
    "data"
   ]
  },
  {
   "cell_type": "code",
   "execution_count": 206,
   "metadata": {},
   "outputs": [
    {
     "data": {
      "image/png": "[encoded data removed]",
      "text/plain": [
       "<Figure size 800x550 with 1 Axes>"
      ]
     },
     "metadata": {},
     "output_type": "display_data"
    }
   ],
   "source": [
    "sns.boxplot(x='status_group',y='age_of_well', data=data, showfliers=False)\n",
    "plt.xlabel('Functionality of Well', fontsize=12, fontweight='bold');\n",
    "plt.ylabel('Age of Well', fontsize=12, fontweight='bold');\n",
    "plt.title('Age of well vs Functionality', fontsize=16, fontweight='bold');"
   ]
  },
  {
   "cell_type": "markdown",
   "metadata": {},
   "source": [
    "0 is Functional\n",
    "1 is Non Funtional or Needs repair\n",
    "\n",
    "So we see, that the newer the well the more chances of it being functional"
   ]
  },
  {
   "cell_type": "code",
   "execution_count": 207,
   "metadata": {},
   "outputs": [
    {
     "name": "stdout",
     "output_type": "stream",
     "text": [
      "<class 'pandas.core.frame.DataFrame'>\n",
      "Index: 35319 entries, 0 to 59399\n",
      "Data columns (total 45 columns):\n",
      " #   Column                 Non-Null Count  Dtype   \n",
      "---  ------                 --------------  -----   \n",
      " 0   id                     35319 non-null  int64   \n",
      " 1   status_group           35319 non-null  category\n",
      " 2   amount_tsh             35319 non-null  float64 \n",
      " 3   date_recorded          35319 non-null  object  \n",
      " 4   funder                 33982 non-null  object  \n",
      " 5   gps_height             35319 non-null  int64   \n",
      " 6   installer              33977 non-null  object  \n",
      " 7   longitude              35319 non-null  float64 \n",
      " 8   latitude               35319 non-null  float64 \n",
      " 9   wpt_name               35318 non-null  object  \n",
      " 10  num_private            35319 non-null  int64   \n",
      " 11  basin                  35319 non-null  object  \n",
      " 12  subvillage             35309 non-null  object  \n",
      " 13  region                 35319 non-null  object  \n",
      " 14  region_code            35319 non-null  int64   \n",
      " 15  district_code          35319 non-null  int64   \n",
      " 16  lga                    35319 non-null  object  \n",
      " 17  ward                   35319 non-null  object  \n",
      " 18  population             35319 non-null  int64   \n",
      " 19  public_meeting         33057 non-null  object  \n",
      " 20  recorded_by            35319 non-null  object  \n",
      " 21  scheme_management      33090 non-null  object  \n",
      " 22  scheme_name            21734 non-null  object  \n",
      " 23  permit                 33395 non-null  object  \n",
      " 24  construction_year      35319 non-null  int64   \n",
      " 25  extraction_type        35319 non-null  object  \n",
      " 26  extraction_type_group  35319 non-null  object  \n",
      " 27  extraction_type_class  35319 non-null  object  \n",
      " 28  management             35319 non-null  object  \n",
      " 29  management_group       35319 non-null  object  \n",
      " 30  payment                35319 non-null  object  \n",
      " 31  payment_type           35319 non-null  object  \n",
      " 32  water_quality          35319 non-null  object  \n",
      " 33  quality_group          35319 non-null  object  \n",
      " 34  quantity               35319 non-null  object  \n",
      " 35  quantity_group         35319 non-null  object  \n",
      " 36  source                 35319 non-null  object  \n",
      " 37  source_type            35319 non-null  object  \n",
      " 38  source_class           35319 non-null  object  \n",
      " 39  waterpoint_type        35319 non-null  object  \n",
      " 40  waterpoint_type_group  35319 non-null  object  \n",
      " 41  target                 35319 non-null  int8    \n",
      " 42  functional             35319 non-null  bool    \n",
      " 43  needs repair           35319 non-null  bool    \n",
      " 44  age_of_well            35319 non-null  int64   \n",
      "dtypes: bool(2), category(1), float64(3), int64(8), int8(1), object(30)\n",
      "memory usage: 11.5+ MB\n"
     ]
    }
   ],
   "source": [
    "data.info()"
   ]
  },
  {
   "cell_type": "code",
   "execution_count": 208,
   "metadata": {},
   "outputs": [],
   "source": [
    "data = data.drop_duplicates()"
   ]
  },
  {
   "cell_type": "code",
   "execution_count": 209,
   "metadata": {},
   "outputs": [],
   "source": [
    "to_drop = ['wpt_name','id','date_recorded','recorded_by','region_code',\n",
    "           'lga','scheme_name','funder','subvillage','latitude',\n",
    "           'longitude','extraction_type_class','extraction_type',\n",
    "           'payment_type','quantity_group','source_type','waterpoint_type_group',\n",
    "           'district_code','amount_tsh','num_private','construction_year',\n",
    "           'status_group','population','functional','needs repair','management'\n",
    "          ]"
   ]
  },
  {
   "cell_type": "code",
   "execution_count": 210,
   "metadata": {},
   "outputs": [
    {
     "name": "stdout",
     "output_type": "stream",
     "text": [
      "<class 'pandas.core.frame.DataFrame'>\n",
      "Index: 29361 entries, 0 to 59399\n",
      "Data columns (total 19 columns):\n",
      " #   Column                 Non-Null Count  Dtype \n",
      "---  ------                 --------------  ----- \n",
      " 0   gps_height             29361 non-null  int64 \n",
      " 1   installer              29361 non-null  object\n",
      " 2   basin                  29361 non-null  object\n",
      " 3   region                 29361 non-null  object\n",
      " 4   ward                   29361 non-null  object\n",
      " 5   public_meeting         29361 non-null  object\n",
      " 6   scheme_management      29361 non-null  object\n",
      " 7   permit                 29361 non-null  object\n",
      " 8   extraction_type_group  29361 non-null  object\n",
      " 9   management_group       29361 non-null  object\n",
      " 10  payment                29361 non-null  object\n",
      " 11  water_quality          29361 non-null  object\n",
      " 12  quality_group          29361 non-null  object\n",
      " 13  quantity               29361 non-null  object\n",
      " 14  source                 29361 non-null  object\n",
      " 15  source_class           29361 non-null  object\n",
      " 16  waterpoint_type        29361 non-null  object\n",
      " 17  target                 29361 non-null  int8  \n",
      " 18  age_of_well            29361 non-null  int64 \n",
      "dtypes: int64(2), int8(1), object(16)\n",
      "memory usage: 4.3+ MB\n"
     ]
    }
   ],
   "source": [
    "data = data.drop(to_drop, axis=1)\n",
    "data = data.dropna()\n",
    "data.info()\n"
   ]
  },
  {
   "cell_type": "markdown",
   "metadata": {},
   "source": [
    "# MODELING\n",
    "\n",
    "CREATE Y & X AXIS"
   ]
  },
  {
   "cell_type": "code",
   "execution_count": 211,
   "metadata": {},
   "outputs": [
    {
     "data": {
      "text/html": [
       "<div>\n",
       "<style scoped>\n",
       "    .dataframe tbody tr th:only-of-type {\n",
       "        vertical-align: middle;\n",
       "    }\n",
       "\n",
       "    .dataframe tbody tr th {\n",
       "        vertical-align: top;\n",
       "    }\n",
       "\n",
       "    .dataframe thead th {\n",
       "        text-align: right;\n",
       "    }\n",
       "</style>\n",
       "<table border=\"1\" class=\"dataframe\">\n",
       "  <thead>\n",
       "    <tr style=\"text-align: right;\">\n",
       "      <th></th>\n",
       "      <th>gps_height</th>\n",
       "      <th>installer</th>\n",
       "      <th>basin</th>\n",
       "      <th>region</th>\n",
       "      <th>ward</th>\n",
       "      <th>public_meeting</th>\n",
       "      <th>scheme_management</th>\n",
       "      <th>permit</th>\n",
       "      <th>extraction_type_group</th>\n",
       "      <th>management_group</th>\n",
       "      <th>payment</th>\n",
       "      <th>water_quality</th>\n",
       "      <th>quality_group</th>\n",
       "      <th>quantity</th>\n",
       "      <th>source</th>\n",
       "      <th>source_class</th>\n",
       "      <th>waterpoint_type</th>\n",
       "      <th>age_of_well</th>\n",
       "    </tr>\n",
       "  </thead>\n",
       "  <tbody>\n",
       "    <tr>\n",
       "      <th>0</th>\n",
       "      <td>1390</td>\n",
       "      <td>Roman</td>\n",
       "      <td>Lake Nyasa</td>\n",
       "      <td>Iringa</td>\n",
       "      <td>Mundindi</td>\n",
       "      <td>True</td>\n",
       "      <td>VWC</td>\n",
       "      <td>False</td>\n",
       "      <td>gravity</td>\n",
       "      <td>user-group</td>\n",
       "      <td>pay annually</td>\n",
       "      <td>soft</td>\n",
       "      <td>good</td>\n",
       "      <td>enough</td>\n",
       "      <td>spring</td>\n",
       "      <td>groundwater</td>\n",
       "      <td>communal standpipe</td>\n",
       "      <td>25</td>\n",
       "    </tr>\n",
       "    <tr>\n",
       "      <th>2</th>\n",
       "      <td>686</td>\n",
       "      <td>World vision</td>\n",
       "      <td>Pangani</td>\n",
       "      <td>Manyara</td>\n",
       "      <td>Ngorika</td>\n",
       "      <td>True</td>\n",
       "      <td>VWC</td>\n",
       "      <td>True</td>\n",
       "      <td>gravity</td>\n",
       "      <td>user-group</td>\n",
       "      <td>pay per bucket</td>\n",
       "      <td>soft</td>\n",
       "      <td>good</td>\n",
       "      <td>enough</td>\n",
       "      <td>dam</td>\n",
       "      <td>surface</td>\n",
       "      <td>communal standpipe multiple</td>\n",
       "      <td>15</td>\n",
       "    </tr>\n",
       "    <tr>\n",
       "      <th>3</th>\n",
       "      <td>263</td>\n",
       "      <td>UNICEF</td>\n",
       "      <td>Ruvuma / Southern Coast</td>\n",
       "      <td>Mtwara</td>\n",
       "      <td>Nanyumbu</td>\n",
       "      <td>True</td>\n",
       "      <td>VWC</td>\n",
       "      <td>True</td>\n",
       "      <td>submersible</td>\n",
       "      <td>user-group</td>\n",
       "      <td>never pay</td>\n",
       "      <td>soft</td>\n",
       "      <td>good</td>\n",
       "      <td>dry</td>\n",
       "      <td>machine dbh</td>\n",
       "      <td>groundwater</td>\n",
       "      <td>communal standpipe multiple</td>\n",
       "      <td>38</td>\n",
       "    </tr>\n",
       "    <tr>\n",
       "      <th>10</th>\n",
       "      <td>62</td>\n",
       "      <td>Private</td>\n",
       "      <td>Wami / Ruvu</td>\n",
       "      <td>Pwani</td>\n",
       "      <td>Tambani</td>\n",
       "      <td>True</td>\n",
       "      <td>Private operator</td>\n",
       "      <td>False</td>\n",
       "      <td>submersible</td>\n",
       "      <td>commercial</td>\n",
       "      <td>never pay</td>\n",
       "      <td>salty</td>\n",
       "      <td>salty</td>\n",
       "      <td>enough</td>\n",
       "      <td>machine dbh</td>\n",
       "      <td>groundwater</td>\n",
       "      <td>other</td>\n",
       "      <td>13</td>\n",
       "    </tr>\n",
       "    <tr>\n",
       "      <th>11</th>\n",
       "      <td>1062</td>\n",
       "      <td>DANIDA</td>\n",
       "      <td>Lake Nyasa</td>\n",
       "      <td>Ruvuma</td>\n",
       "      <td>Msindo</td>\n",
       "      <td>True</td>\n",
       "      <td>WUG</td>\n",
       "      <td>False</td>\n",
       "      <td>swn 80</td>\n",
       "      <td>user-group</td>\n",
       "      <td>pay when scheme fails</td>\n",
       "      <td>soft</td>\n",
       "      <td>good</td>\n",
       "      <td>insufficient</td>\n",
       "      <td>shallow well</td>\n",
       "      <td>groundwater</td>\n",
       "      <td>hand pump</td>\n",
       "      <td>37</td>\n",
       "    </tr>\n",
       "  </tbody>\n",
       "</table>\n",
       "</div>"
      ],
      "text/plain": [
       "    gps_height     installer                    basin   region      ward  \\\n",
       "0         1390         Roman               Lake Nyasa   Iringa  Mundindi   \n",
       "2          686  World vision                  Pangani  Manyara   Ngorika   \n",
       "3          263        UNICEF  Ruvuma / Southern Coast   Mtwara  Nanyumbu   \n",
       "10          62       Private              Wami / Ruvu    Pwani   Tambani   \n",
       "11        1062        DANIDA               Lake Nyasa   Ruvuma    Msindo   \n",
       "\n",
       "   public_meeting scheme_management permit extraction_type_group  \\\n",
       "0            True               VWC  False               gravity   \n",
       "2            True               VWC   True               gravity   \n",
       "3            True               VWC   True           submersible   \n",
       "10           True  Private operator  False           submersible   \n",
       "11           True               WUG  False                swn 80   \n",
       "\n",
       "   management_group                payment water_quality quality_group  \\\n",
       "0        user-group           pay annually          soft          good   \n",
       "2        user-group         pay per bucket          soft          good   \n",
       "3        user-group              never pay          soft          good   \n",
       "10       commercial              never pay         salty         salty   \n",
       "11       user-group  pay when scheme fails          soft          good   \n",
       "\n",
       "        quantity        source source_class              waterpoint_type  \\\n",
       "0         enough        spring  groundwater           communal standpipe   \n",
       "2         enough           dam      surface  communal standpipe multiple   \n",
       "3            dry   machine dbh  groundwater  communal standpipe multiple   \n",
       "10        enough   machine dbh  groundwater                        other   \n",
       "11  insufficient  shallow well  groundwater                    hand pump   \n",
       "\n",
       "    age_of_well  \n",
       "0            25  \n",
       "2            15  \n",
       "3            38  \n",
       "10           13  \n",
       "11           37  "
      ]
     },
     "execution_count": 211,
     "metadata": {},
     "output_type": "execute_result"
    },
    {
     "data": {
      "text/plain": [
       "0     0\n",
       "2     0\n",
       "3     1\n",
       "10    0\n",
       "11    0\n",
       "Name: target, dtype: int8"
      ]
     },
     "execution_count": 211,
     "metadata": {},
     "output_type": "execute_result"
    }
   ],
   "source": [
    "X = data.drop(['target'], axis=1)\n",
    "y = data['target']\n",
    "\n",
    "X.head()\n",
    "y.head()"
   ]
  },
  {
   "cell_type": "code",
   "execution_count": 212,
   "metadata": {},
   "outputs": [],
   "source": [
    "numerical_cols = list(X.select_dtypes(include=np.number).columns)\n",
    "categorical_cols = list(X.select_dtypes(exclude=np.number).columns)"
   ]
  },
  {
   "cell_type": "markdown",
   "metadata": {},
   "source": [
    "Models\n",
    "LinearSVC\n",
    "XGBoost\n",
    "Random Forest"
   ]
  },
  {
   "cell_type": "code",
   "execution_count": 213,
   "metadata": {},
   "outputs": [],
   "source": [
    "from sklearn.compose import ColumnTransformer\n",
    "from sklearn.pipeline import Pipeline\n",
    "from sklearn.impute import SimpleImputer\n",
    "from sklearn.preprocessing import OneHotEncoder, StandardScaler\n",
    "\n",
    "# Preprocessing for numerical data\n",
    "numerical_transformer = Pipeline(steps=[\n",
    "    ('scale', StandardScaler())\n",
    "])\n",
    "\n",
    "# Preprocessing for categorical data\n",
    "categorical_transformer = Pipeline(steps=[\n",
    "    ('imputer', SimpleImputer(strategy='most_frequent')),\n",
    "    ('onehot', OneHotEncoder(handle_unknown='ignore'))\n",
    "])\n",
    "\n",
    "# Bundle preprocessing for numerical and categorical data\n",
    "preprocessor = ColumnTransformer(\n",
    "    transformers=[\n",
    "        ('num', numerical_transformer, numerical_cols),\n",
    "        ('cat', categorical_transformer, categorical_cols)\n",
    "    ])"
   ]
  },
  {
   "cell_type": "code",
   "execution_count": 214,
   "metadata": {},
   "outputs": [
    {
     "name": "stdout",
     "output_type": "stream",
     "text": [
      "Requirement already up-to-date: imbalanced-learn in c:\\users\\beryl\\anaconda3\\envs\\learn-env\\lib\\site-packages (0.12.0)\n",
      "Requirement already satisfied, skipping upgrade: numpy>=1.17.3 in c:\\users\\beryl\\anaconda3\\envs\\learn-env\\lib\\site-packages (from imbalanced-learn) (1.18.5)\n",
      "Requirement already satisfied, skipping upgrade: scipy>=1.5.0 in c:\\users\\beryl\\anaconda3\\envs\\learn-env\\lib\\site-packages (from imbalanced-learn) (1.5.0)\n",
      "Requirement already satisfied, skipping upgrade: threadpoolctl>=2.0.0 in c:\\users\\beryl\\anaconda3\\envs\\learn-env\\lib\\site-packages (from imbalanced-learn) (2.1.0)\n",
      "Requirement already satisfied, skipping upgrade: scikit-learn>=1.0.2 in c:\\users\\beryl\\anaconda3\\envs\\learn-env\\lib\\site-packages (from imbalanced-learn) (1.3.2)\n",
      "Requirement already satisfied, skipping upgrade: joblib>=1.1.1 in c:\\users\\beryl\\anaconda3\\envs\\learn-env\\lib\\site-packages (from imbalanced-learn) (1.3.2)\n"
     ]
    }
   ],
   "source": [
    "!pip install -U imbalanced-learn"
   ]
  },
  {
   "cell_type": "code",
   "execution_count": 225,
   "metadata": {},
   "outputs": [
    {
     "ename": "ImportError",
     "evalue": "cannot import name '_MissingValues' from 'sklearn.utils._param_validation' (C:\\Users\\Beryl\\anaconda3\\Lib\\site-packages\\sklearn\\utils\\_param_validation.py)",
     "output_type": "error",
     "traceback": [
      "\u001b[1;31m---------------------------------------------------------------------------\u001b[0m",
      "\u001b[1;31mImportError\u001b[0m                               Traceback (most recent call last)",
      "Cell \u001b[1;32mIn[225], line 3\u001b[0m\n\u001b[0;32m      1\u001b[0m \u001b[38;5;28;01mfrom\u001b[39;00m \u001b[38;5;21;01msklearn\u001b[39;00m\u001b[38;5;21;01m.\u001b[39;00m\u001b[38;5;21;01mmetrics\u001b[39;00m \u001b[38;5;28;01mimport\u001b[39;00m mean_absolute_error\n\u001b[0;32m      2\u001b[0m \u001b[38;5;28;01mfrom\u001b[39;00m \u001b[38;5;21;01msklearn\u001b[39;00m\u001b[38;5;21;01m.\u001b[39;00m\u001b[38;5;21;01mmodel_selection\u001b[39;00m \u001b[38;5;28;01mimport\u001b[39;00m GridSearchCV\n\u001b[1;32m----> 3\u001b[0m \u001b[38;5;28;01mfrom\u001b[39;00m \u001b[38;5;21;01mimblearn\u001b[39;00m\u001b[38;5;21;01m.\u001b[39;00m\u001b[38;5;21;01mover_sampling\u001b[39;00m \u001b[38;5;28;01mimport\u001b[39;00m SMOTE\n\u001b[0;32m      4\u001b[0m \u001b[38;5;28;01mfrom\u001b[39;00m \u001b[38;5;21;01mimblearn\u001b[39;00m\u001b[38;5;21;01m.\u001b[39;00m\u001b[38;5;21;01munder_sampling\u001b[39;00m \u001b[38;5;28;01mimport\u001b[39;00m RandomUnderSampler\n\u001b[0;32m      5\u001b[0m \u001b[38;5;28;01mfrom\u001b[39;00m \u001b[38;5;21;01mimblearn\u001b[39;00m\u001b[38;5;21;01m.\u001b[39;00m\u001b[38;5;21;01mpipeline\u001b[39;00m \u001b[38;5;28;01mimport\u001b[39;00m Pipeline\n",
      "File \u001b[1;32m~\\anaconda3\\Lib\\site-packages\\imblearn\\__init__.py:52\u001b[0m\n\u001b[0;32m     48\u001b[0m     sys\u001b[38;5;241m.\u001b[39mstderr\u001b[38;5;241m.\u001b[39mwrite(\u001b[38;5;124m\"\u001b[39m\u001b[38;5;124mPartial import of imblearn during the build process.\u001b[39m\u001b[38;5;130;01m\\n\u001b[39;00m\u001b[38;5;124m\"\u001b[39m)\n\u001b[0;32m     49\u001b[0m     \u001b[38;5;66;03m# We are not importing the rest of scikit-learn during the build\u001b[39;00m\n\u001b[0;32m     50\u001b[0m     \u001b[38;5;66;03m# process, as it may not be compiled yet\u001b[39;00m\n\u001b[0;32m     51\u001b[0m \u001b[38;5;28;01melse\u001b[39;00m:\n\u001b[1;32m---> 52\u001b[0m     \u001b[38;5;28;01mfrom\u001b[39;00m \u001b[38;5;21;01m.\u001b[39;00m \u001b[38;5;28;01mimport\u001b[39;00m (\n\u001b[0;32m     53\u001b[0m         combine,\n\u001b[0;32m     54\u001b[0m         ensemble,\n\u001b[0;32m     55\u001b[0m         exceptions,\n\u001b[0;32m     56\u001b[0m         metrics,\n\u001b[0;32m     57\u001b[0m         over_sampling,\n\u001b[0;32m     58\u001b[0m         pipeline,\n\u001b[0;32m     59\u001b[0m         tensorflow,\n\u001b[0;32m     60\u001b[0m         under_sampling,\n\u001b[0;32m     61\u001b[0m         utils,\n\u001b[0;32m     62\u001b[0m     )\n\u001b[0;32m     63\u001b[0m     \u001b[38;5;28;01mfrom\u001b[39;00m \u001b[38;5;21;01m.\u001b[39;00m\u001b[38;5;21;01m_version\u001b[39;00m \u001b[38;5;28;01mimport\u001b[39;00m __version__\n\u001b[0;32m     64\u001b[0m     \u001b[38;5;28;01mfrom\u001b[39;00m \u001b[38;5;21;01m.\u001b[39;00m\u001b[38;5;21;01mbase\u001b[39;00m \u001b[38;5;28;01mimport\u001b[39;00m FunctionSampler\n",
      "File \u001b[1;32m~\\anaconda3\\Lib\\site-packages\\imblearn\\combine\\__init__.py:5\u001b[0m\n\u001b[0;32m      1\u001b[0m \u001b[38;5;124;03m\"\"\"The :mod:`imblearn.combine` provides methods which combine\u001b[39;00m\n\u001b[0;32m      2\u001b[0m \u001b[38;5;124;03mover-sampling and under-sampling.\u001b[39;00m\n\u001b[0;32m      3\u001b[0m \u001b[38;5;124;03m\"\"\"\u001b[39;00m\n\u001b[1;32m----> 5\u001b[0m \u001b[38;5;28;01mfrom\u001b[39;00m \u001b[38;5;21;01m.\u001b[39;00m\u001b[38;5;21;01m_smote_enn\u001b[39;00m \u001b[38;5;28;01mimport\u001b[39;00m SMOTEENN\n\u001b[0;32m      6\u001b[0m \u001b[38;5;28;01mfrom\u001b[39;00m \u001b[38;5;21;01m.\u001b[39;00m\u001b[38;5;21;01m_smote_tomek\u001b[39;00m \u001b[38;5;28;01mimport\u001b[39;00m SMOTETomek\n\u001b[0;32m      8\u001b[0m __all__ \u001b[38;5;241m=\u001b[39m [\u001b[38;5;124m\"\u001b[39m\u001b[38;5;124mSMOTEENN\u001b[39m\u001b[38;5;124m\"\u001b[39m, \u001b[38;5;124m\"\u001b[39m\u001b[38;5;124mSMOTETomek\u001b[39m\u001b[38;5;124m\"\u001b[39m]\n",
      "File \u001b[1;32m~\\anaconda3\\Lib\\site-packages\\imblearn\\combine\\_smote_enn.py:12\u001b[0m\n\u001b[0;32m      9\u001b[0m \u001b[38;5;28;01mfrom\u001b[39;00m \u001b[38;5;21;01msklearn\u001b[39;00m\u001b[38;5;21;01m.\u001b[39;00m\u001b[38;5;21;01mbase\u001b[39;00m \u001b[38;5;28;01mimport\u001b[39;00m clone\n\u001b[0;32m     10\u001b[0m \u001b[38;5;28;01mfrom\u001b[39;00m \u001b[38;5;21;01msklearn\u001b[39;00m\u001b[38;5;21;01m.\u001b[39;00m\u001b[38;5;21;01mutils\u001b[39;00m \u001b[38;5;28;01mimport\u001b[39;00m check_X_y\n\u001b[1;32m---> 12\u001b[0m \u001b[38;5;28;01mfrom\u001b[39;00m \u001b[38;5;21;01m.\u001b[39;00m\u001b[38;5;21;01m.\u001b[39;00m\u001b[38;5;21;01mbase\u001b[39;00m \u001b[38;5;28;01mimport\u001b[39;00m BaseSampler\n\u001b[0;32m     13\u001b[0m \u001b[38;5;28;01mfrom\u001b[39;00m \u001b[38;5;21;01m.\u001b[39;00m\u001b[38;5;21;01m.\u001b[39;00m\u001b[38;5;21;01mover_sampling\u001b[39;00m \u001b[38;5;28;01mimport\u001b[39;00m SMOTE\n\u001b[0;32m     14\u001b[0m \u001b[38;5;28;01mfrom\u001b[39;00m \u001b[38;5;21;01m.\u001b[39;00m\u001b[38;5;21;01m.\u001b[39;00m\u001b[38;5;21;01mover_sampling\u001b[39;00m\u001b[38;5;21;01m.\u001b[39;00m\u001b[38;5;21;01mbase\u001b[39;00m \u001b[38;5;28;01mimport\u001b[39;00m BaseOverSampler\n",
      "File \u001b[1;32m~\\anaconda3\\Lib\\site-packages\\imblearn\\base.py:21\u001b[0m\n\u001b[0;32m     18\u001b[0m \u001b[38;5;28;01mfrom\u001b[39;00m \u001b[38;5;21;01msklearn\u001b[39;00m\u001b[38;5;21;01m.\u001b[39;00m\u001b[38;5;21;01mutils\u001b[39;00m\u001b[38;5;21;01m.\u001b[39;00m\u001b[38;5;21;01mmulticlass\u001b[39;00m \u001b[38;5;28;01mimport\u001b[39;00m check_classification_targets\n\u001b[0;32m     20\u001b[0m \u001b[38;5;28;01mfrom\u001b[39;00m \u001b[38;5;21;01m.\u001b[39;00m\u001b[38;5;21;01mutils\u001b[39;00m \u001b[38;5;28;01mimport\u001b[39;00m check_sampling_strategy, check_target_type\n\u001b[1;32m---> 21\u001b[0m \u001b[38;5;28;01mfrom\u001b[39;00m \u001b[38;5;21;01m.\u001b[39;00m\u001b[38;5;21;01mutils\u001b[39;00m\u001b[38;5;21;01m.\u001b[39;00m\u001b[38;5;21;01m_param_validation\u001b[39;00m \u001b[38;5;28;01mimport\u001b[39;00m validate_parameter_constraints\n\u001b[0;32m     22\u001b[0m \u001b[38;5;28;01mfrom\u001b[39;00m \u001b[38;5;21;01m.\u001b[39;00m\u001b[38;5;21;01mutils\u001b[39;00m\u001b[38;5;21;01m.\u001b[39;00m\u001b[38;5;21;01m_validation\u001b[39;00m \u001b[38;5;28;01mimport\u001b[39;00m ArraysTransformer\n\u001b[0;32m     25\u001b[0m \u001b[38;5;28;01mclass\u001b[39;00m \u001b[38;5;21;01mSamplerMixin\u001b[39;00m(BaseEstimator, metaclass\u001b[38;5;241m=\u001b[39mABCMeta):\n",
      "File \u001b[1;32m~\\anaconda3\\Lib\\site-packages\\imblearn\\utils\\_param_validation.py:908\u001b[0m\n\u001b[0;32m    906\u001b[0m \u001b[38;5;28;01mfrom\u001b[39;00m \u001b[38;5;21;01msklearn\u001b[39;00m\u001b[38;5;21;01m.\u001b[39;00m\u001b[38;5;21;01mutils\u001b[39;00m\u001b[38;5;21;01m.\u001b[39;00m\u001b[38;5;21;01m_param_validation\u001b[39;00m \u001b[38;5;28;01mimport\u001b[39;00m generate_valid_param  \u001b[38;5;66;03m# noqa\u001b[39;00m\n\u001b[0;32m    907\u001b[0m \u001b[38;5;28;01mfrom\u001b[39;00m \u001b[38;5;21;01msklearn\u001b[39;00m\u001b[38;5;21;01m.\u001b[39;00m\u001b[38;5;21;01mutils\u001b[39;00m\u001b[38;5;21;01m.\u001b[39;00m\u001b[38;5;21;01m_param_validation\u001b[39;00m \u001b[38;5;28;01mimport\u001b[39;00m validate_parameter_constraints  \u001b[38;5;66;03m# noqa\u001b[39;00m\n\u001b[1;32m--> 908\u001b[0m \u001b[38;5;28;01mfrom\u001b[39;00m \u001b[38;5;21;01msklearn\u001b[39;00m\u001b[38;5;21;01m.\u001b[39;00m\u001b[38;5;21;01mutils\u001b[39;00m\u001b[38;5;21;01m.\u001b[39;00m\u001b[38;5;21;01m_param_validation\u001b[39;00m \u001b[38;5;28;01mimport\u001b[39;00m (\n\u001b[0;32m    909\u001b[0m     HasMethods,\n\u001b[0;32m    910\u001b[0m     Hidden,\n\u001b[0;32m    911\u001b[0m     Interval,\n\u001b[0;32m    912\u001b[0m     Options,\n\u001b[0;32m    913\u001b[0m     StrOptions,\n\u001b[0;32m    914\u001b[0m     _ArrayLikes,\n\u001b[0;32m    915\u001b[0m     _Booleans,\n\u001b[0;32m    916\u001b[0m     _Callables,\n\u001b[0;32m    917\u001b[0m     _CVObjects,\n\u001b[0;32m    918\u001b[0m     _InstancesOf,\n\u001b[0;32m    919\u001b[0m     _IterablesNotString,\n\u001b[0;32m    920\u001b[0m     _MissingValues,\n\u001b[0;32m    921\u001b[0m     _NoneConstraint,\n\u001b[0;32m    922\u001b[0m     _PandasNAConstraint,\n\u001b[0;32m    923\u001b[0m     _RandomStates,\n\u001b[0;32m    924\u001b[0m     _SparseMatrices,\n\u001b[0;32m    925\u001b[0m     _VerboseHelper,\n\u001b[0;32m    926\u001b[0m     make_constraint,\n\u001b[0;32m    927\u001b[0m     validate_params,\n\u001b[0;32m    928\u001b[0m )\n",
      "\u001b[1;31mImportError\u001b[0m: cannot import name '_MissingValues' from 'sklearn.utils._param_validation' (C:\\Users\\Beryl\\anaconda3\\Lib\\site-packages\\sklearn\\utils\\_param_validation.py)"
     ]
    }
   ],
   "source": [
    "from sklearn.metrics import mean_absolute_error\n",
    "from sklearn.model_selection import GridSearchCV\n",
    "from imblearn.over_sampling import SMOTE\n",
    "from imblearn.under_sampling import RandomUnderSampler\n",
    "from imblearn.pipeline import Pipeline\n",
    "from sklearn.decomposition import TruncatedSVD\n",
    "import xgboost as xgboost\n",
    "\n",
    "def fit_predict(model, X_train, X_test, y_train, y_test):\n",
    "    '''fit pipeline using given model, and return predictions'''\n",
    "    \n",
    "    param_grid = model['params']\n",
    "    model = model['model']\n",
    "        \n",
    "    \n",
    "    my_pipeline = Pipeline(steps=[('preprocessor', preprocessor),\n",
    "                                  ('model', model)\n",
    "                                 ])\n",
    "\n",
    "    search = GridSearchCV(estimator=my_pipeline,\n",
    "             param_grid=param_grid, n_jobs=-1, verbose=2, cv=10)\n",
    "    \n",
    "    search.fit(X_train, y_train)\n",
    "    \n",
    "    best_estimator = search.best_estimator_._final_estimator\n",
    "    \n",
    "    print(\"Best parameter (CV score=%0.3f):\" % search.best_score_)\n",
    "    print(search.best_params_)\n",
    "\n",
    "    # Preprocessing of validation data, get predictions\n",
    "    test_preds = search.predict(X_test)\n",
    "    train_preds = search.predict(X_train)\n",
    "    \n",
    "    return test_preds, train_preds, search"
   ]
  },
  {
   "cell_type": "code",
   "execution_count": 216,
   "metadata": {},
   "outputs": [],
   "source": [
    "from sklearn.metrics import accuracy_score\n",
    "from sklearn.metrics import classification_report\n",
    "from sklearn.metrics import confusion_matrix\n",
    "import itertools\n",
    "import matplotlib.pyplot as plt\n",
    "%matplotlib inline\n",
    "\n",
    "def plot_confusion_matrix(y_true, y_preds):\n",
    "    # Print confusion matrix\n",
    "    cnf_matrix = confusion_matrix(y_true, y_preds)\n",
    "    # Create the basic matrix\n",
    "    plt.imshow(cnf_matrix,  cmap=plt.cm.Blues)\n",
    "    # Add title and axis labels\n",
    "    plt.title('Confusion Matrix')\n",
    "    plt.ylabel('True label')\n",
    "    plt.xlabel('Predicted label')\n",
    "    # Add appropriate axis scales\n",
    "    class_names = set(y) # Get class labels to add to matrix\n",
    "    tick_marks = np.arange(len(class_names))\n",
    "    plt.xticks(tick_marks, class_names, rotation=0)\n",
    "    plt.yticks(tick_marks, class_names)\n",
    "    # Add labels to each cell\n",
    "    thresh = cnf_matrix.max() / 2. # Used for text coloring below\n",
    "    # Here we iterate through the confusion matrix and append labels to our visualization\n",
    "    for i, j in itertools.product(range(cnf_matrix.shape[0]), range(cnf_matrix.shape[1])):\n",
    "            plt.text(j, i, cnf_matrix[i, j],\n",
    "                     horizontalalignment='center',\n",
    "                     color='white' if cnf_matrix[i, j] > thresh else 'black')\n",
    "    # Add a legend\n",
    "    plt.colorbar();\n",
    "    plt.show();\n",
    "\n",
    "def metrics(model_name, y_train, y_test, y_train_pred, y_test_pred):\n",
    "    '''Print out the evaluation metrics for a given models predictions'''\n",
    "    print(f'Model: {model_name}', )\n",
    "    print('-'*60)\n",
    "    plot_confusion_matrix(y_test,y_test_pred)\n",
    "    print(f'test accuracy: {accuracy_score(y_test, y_test_pred)}')\n",
    "    print(f'train accuracy: {accuracy_score(y_train, y_train_pred)}')\n",
    "    print('-'*60)\n",
    "    print('\\ntest report:\\n' + classification_report(y_test, y_test_pred))\n",
    "    print('~'*60)\n",
    "    print('\\ntrain report:\\n' + classification_report(y_train, y_train_pred))    \n",
    "    print('-'*60)"
   ]
  },
  {
   "cell_type": "code",
   "execution_count": 217,
   "metadata": {},
   "outputs": [],
   "source": [
    "def roc(X_test, y_test, pred_y, model):\n",
    "    name=str(model.best_estimator_.named_steps[\"model\"])[:str(model.best_estimator_.named_steps[\"model\"]).index('(')]\n",
    "    y_pred_proba = model.predict_proba(X_test)[:,1]\n",
    "    fpr, tpr, threshold = roc_curve(y_test, y_pred_proba)\n",
    "    plt.plot(fpr, tpr, label = model)\n",
    "    plt.xlabel('False Positive Rate')\n",
    "    plt.ylabel('True Positive Rate')\n",
    "    plt.title(f'ROC curve for {name}')\n",
    "    plt.show()"
   ]
  },
  {
   "cell_type": "code",
   "execution_count": 218,
   "metadata": {},
   "outputs": [],
   "source": [
    "smallest_num = data['target'].value_counts().sort_values().values[0]\n",
    "target_0 = data[data['target'] == 0].sample(smallest_num)\n",
    "target_1 = data[data['target'] == 1].sample(smallest_num)\n",
    "sampled_df = pd.concat([target_0, target_1])"
   ]
  },
  {
   "cell_type": "code",
   "execution_count": 219,
   "metadata": {},
   "outputs": [
    {
     "data": {
      "text/plain": [
       "target\n",
       "0    12664\n",
       "1    12664\n",
       "Name: count, dtype: int64"
      ]
     },
     "execution_count": 219,
     "metadata": {},
     "output_type": "execute_result"
    }
   ],
   "source": [
    "sampled_df['target'].value_counts()"
   ]
  },
  {
   "cell_type": "code",
   "execution_count": 220,
   "metadata": {},
   "outputs": [],
   "source": [
    "X_sampled_df = sampled_df.drop('target', axis=1)\n",
    "y_sampled_df = sampled_df['target']"
   ]
  },
  {
   "cell_type": "code",
   "execution_count": 221,
   "metadata": {},
   "outputs": [
    {
     "data": {
      "text/html": [
       "<div>\n",
       "<style scoped>\n",
       "    .dataframe tbody tr th:only-of-type {\n",
       "        vertical-align: middle;\n",
       "    }\n",
       "\n",
       "    .dataframe tbody tr th {\n",
       "        vertical-align: top;\n",
       "    }\n",
       "\n",
       "    .dataframe thead th {\n",
       "        text-align: right;\n",
       "    }\n",
       "</style>\n",
       "<table border=\"1\" class=\"dataframe\">\n",
       "  <thead>\n",
       "    <tr style=\"text-align: right;\">\n",
       "      <th></th>\n",
       "      <th>gps_height</th>\n",
       "      <th>installer</th>\n",
       "      <th>basin</th>\n",
       "      <th>region</th>\n",
       "      <th>ward</th>\n",
       "      <th>public_meeting</th>\n",
       "      <th>scheme_management</th>\n",
       "      <th>permit</th>\n",
       "      <th>extraction_type_group</th>\n",
       "      <th>management_group</th>\n",
       "      <th>payment</th>\n",
       "      <th>water_quality</th>\n",
       "      <th>quality_group</th>\n",
       "      <th>quantity</th>\n",
       "      <th>source</th>\n",
       "      <th>source_class</th>\n",
       "      <th>waterpoint_type</th>\n",
       "      <th>age_of_well</th>\n",
       "    </tr>\n",
       "  </thead>\n",
       "  <tbody>\n",
       "    <tr>\n",
       "      <th>34986</th>\n",
       "      <td>100</td>\n",
       "      <td>DWE</td>\n",
       "      <td>Wami / Ruvu</td>\n",
       "      <td>Pwani</td>\n",
       "      <td>Kiluvya</td>\n",
       "      <td>True</td>\n",
       "      <td>VWC</td>\n",
       "      <td>False</td>\n",
       "      <td>gravity</td>\n",
       "      <td>user-group</td>\n",
       "      <td>pay per bucket</td>\n",
       "      <td>soft</td>\n",
       "      <td>good</td>\n",
       "      <td>enough</td>\n",
       "      <td>river</td>\n",
       "      <td>surface</td>\n",
       "      <td>communal standpipe multiple</td>\n",
       "      <td>15</td>\n",
       "    </tr>\n",
       "    <tr>\n",
       "      <th>46020</th>\n",
       "      <td>334</td>\n",
       "      <td>District Council</td>\n",
       "      <td>Wami / Ruvu</td>\n",
       "      <td>Pwani</td>\n",
       "      <td>Marumbo</td>\n",
       "      <td>True</td>\n",
       "      <td>VWC</td>\n",
       "      <td>False</td>\n",
       "      <td>india mark iii</td>\n",
       "      <td>user-group</td>\n",
       "      <td>pay per bucket</td>\n",
       "      <td>soft</td>\n",
       "      <td>good</td>\n",
       "      <td>insufficient</td>\n",
       "      <td>machine dbh</td>\n",
       "      <td>groundwater</td>\n",
       "      <td>hand pump</td>\n",
       "      <td>30</td>\n",
       "    </tr>\n",
       "    <tr>\n",
       "      <th>32077</th>\n",
       "      <td>208</td>\n",
       "      <td>DWE</td>\n",
       "      <td>Rufiji</td>\n",
       "      <td>Pwani</td>\n",
       "      <td>Kibiti</td>\n",
       "      <td>True</td>\n",
       "      <td>VWC</td>\n",
       "      <td>True</td>\n",
       "      <td>mono</td>\n",
       "      <td>user-group</td>\n",
       "      <td>pay per bucket</td>\n",
       "      <td>soft</td>\n",
       "      <td>good</td>\n",
       "      <td>enough</td>\n",
       "      <td>machine dbh</td>\n",
       "      <td>groundwater</td>\n",
       "      <td>communal standpipe</td>\n",
       "      <td>19</td>\n",
       "    </tr>\n",
       "    <tr>\n",
       "      <th>40666</th>\n",
       "      <td>1242</td>\n",
       "      <td>Magadini-Makiwaru wa</td>\n",
       "      <td>Pangani</td>\n",
       "      <td>Kilimanjaro</td>\n",
       "      <td>Siha Kati</td>\n",
       "      <td>True</td>\n",
       "      <td>Water Board</td>\n",
       "      <td>True</td>\n",
       "      <td>gravity</td>\n",
       "      <td>user-group</td>\n",
       "      <td>pay monthly</td>\n",
       "      <td>soft</td>\n",
       "      <td>good</td>\n",
       "      <td>enough</td>\n",
       "      <td>spring</td>\n",
       "      <td>groundwater</td>\n",
       "      <td>communal standpipe</td>\n",
       "      <td>17</td>\n",
       "    </tr>\n",
       "    <tr>\n",
       "      <th>8766</th>\n",
       "      <td>550</td>\n",
       "      <td>DWE</td>\n",
       "      <td>Ruvuma / Southern Coast</td>\n",
       "      <td>Ruvuma</td>\n",
       "      <td>Magazini</td>\n",
       "      <td>True</td>\n",
       "      <td>WUG</td>\n",
       "      <td>False</td>\n",
       "      <td>swn 80</td>\n",
       "      <td>user-group</td>\n",
       "      <td>pay monthly</td>\n",
       "      <td>soft</td>\n",
       "      <td>good</td>\n",
       "      <td>insufficient</td>\n",
       "      <td>shallow well</td>\n",
       "      <td>groundwater</td>\n",
       "      <td>hand pump</td>\n",
       "      <td>15</td>\n",
       "    </tr>\n",
       "  </tbody>\n",
       "</table>\n",
       "</div>"
      ],
      "text/plain": [
       "       gps_height             installer                    basin       region  \\\n",
       "34986         100                   DWE              Wami / Ruvu        Pwani   \n",
       "46020         334      District Council              Wami / Ruvu        Pwani   \n",
       "32077         208                   DWE                   Rufiji        Pwani   \n",
       "40666        1242  Magadini-Makiwaru wa                  Pangani  Kilimanjaro   \n",
       "8766          550                   DWE  Ruvuma / Southern Coast       Ruvuma   \n",
       "\n",
       "            ward public_meeting scheme_management permit  \\\n",
       "34986    Kiluvya           True               VWC  False   \n",
       "46020    Marumbo           True               VWC  False   \n",
       "32077     Kibiti           True               VWC   True   \n",
       "40666  Siha Kati           True       Water Board   True   \n",
       "8766    Magazini           True               WUG  False   \n",
       "\n",
       "      extraction_type_group management_group         payment water_quality  \\\n",
       "34986               gravity       user-group  pay per bucket          soft   \n",
       "46020        india mark iii       user-group  pay per bucket          soft   \n",
       "32077                  mono       user-group  pay per bucket          soft   \n",
       "40666               gravity       user-group     pay monthly          soft   \n",
       "8766                 swn 80       user-group     pay monthly          soft   \n",
       "\n",
       "      quality_group      quantity        source source_class  \\\n",
       "34986          good        enough         river      surface   \n",
       "46020          good  insufficient   machine dbh  groundwater   \n",
       "32077          good        enough   machine dbh  groundwater   \n",
       "40666          good        enough        spring  groundwater   \n",
       "8766           good  insufficient  shallow well  groundwater   \n",
       "\n",
       "                   waterpoint_type  age_of_well  \n",
       "34986  communal standpipe multiple           15  \n",
       "46020                    hand pump           30  \n",
       "32077           communal standpipe           19  \n",
       "40666           communal standpipe           17  \n",
       "8766                     hand pump           15  "
      ]
     },
     "execution_count": 221,
     "metadata": {},
     "output_type": "execute_result"
    }
   ],
   "source": [
    "from sklearn.model_selection import train_test_split\n",
    "\n",
    "X_train, X_test, y_train, y_test = train_test_split(X_sampled_df, y_sampled_df, test_size=.3, random_state=42)\n",
    "\n",
    "X_sampled_df.head()"
   ]
  },
  {
   "cell_type": "code",
   "execution_count": 222,
   "metadata": {},
   "outputs": [
    {
     "data": {
      "text/plain": [
       "25328"
      ]
     },
     "execution_count": 222,
     "metadata": {},
     "output_type": "execute_result"
    }
   ],
   "source": [
    "X_sampled_df.shape[0]"
   ]
  },
  {
   "cell_type": "code",
   "execution_count": 223,
   "metadata": {},
   "outputs": [],
   "source": [
    "lsvc_param = {\n",
    "    'model__C': [1, 10], #the higher the C, the more penalty SVM was given when it misclassified\n",
    "    'model__max_iter': [10000], # maximum number of iterations to be run.\n",
    "    'model__dual':[False],  # dual=False when n_samples > n_features.\n",
    "    'model__penalty': ['l1','l2'],# Specifies the norm used in the penalization. The ‘l2’ penalty is the standard used in \n",
    "                                  # SVC. The ‘l1’ leads to coef_ vectors that are sparse.\n",
    "}"
   ]
  },
  {
   "cell_type": "code",
   "execution_count": 224,
   "metadata": {},
   "outputs": [
    {
     "ename": "NameError",
     "evalue": "name 'fit_predict' is not defined",
     "output_type": "error",
     "traceback": [
      "\u001b[1;31m---------------------------------------------------------------------------\u001b[0m",
      "\u001b[1;31mNameError\u001b[0m                                 Traceback (most recent call last)",
      "Cell \u001b[1;32mIn[224], line 5\u001b[0m\n\u001b[0;32m      1\u001b[0m \u001b[38;5;28;01mfrom\u001b[39;00m \u001b[38;5;21;01msklearn\u001b[39;00m\u001b[38;5;21;01m.\u001b[39;00m\u001b[38;5;21;01msvm\u001b[39;00m \u001b[38;5;28;01mimport\u001b[39;00m LinearSVC\n\u001b[0;32m      3\u001b[0m lsvc \u001b[38;5;241m=\u001b[39m { \u001b[38;5;124m'\u001b[39m\u001b[38;5;124mmodel\u001b[39m\u001b[38;5;124m'\u001b[39m: LinearSVC(random_state\u001b[38;5;241m=\u001b[39m\u001b[38;5;241m42\u001b[39m), \u001b[38;5;124m'\u001b[39m\u001b[38;5;124mparams\u001b[39m\u001b[38;5;124m'\u001b[39m: lsvc_param }\n\u001b[1;32m----> 5\u001b[0m lsvc_test_preds, lsvc_train_preds,lsvc_pipeline \u001b[38;5;241m=\u001b[39m fit_predict(lsvc, X_train, X_test, y_train, y_test)\n",
      "\u001b[1;31mNameError\u001b[0m: name 'fit_predict' is not defined"
     ]
    }
   ],
   "source": [
    "from sklearn.svm import LinearSVC\n",
    "\n",
    "lsvc = { 'model': LinearSVC(random_state=42), 'params': lsvc_param }\n",
    "\n",
    "lsvc_test_preds, lsvc_train_preds,lsvc_pipeline = fit_predict(lsvc, X_train, X_test, y_train, y_test)"
   ]
  },
  {
   "cell_type": "code",
   "execution_count": 159,
   "metadata": {},
   "outputs": [
    {
     "ename": "NameError",
     "evalue": "name 'lsvc_train_preds' is not defined",
     "output_type": "error",
     "traceback": [
      "\u001b[1;31m---------------------------------------------------------------------------\u001b[0m",
      "\u001b[1;31mNameError\u001b[0m                                 Traceback (most recent call last)",
      "Cell \u001b[1;32mIn[159], line 1\u001b[0m\n\u001b[1;32m----> 1\u001b[0m metrics(\u001b[38;5;124m'\u001b[39m\u001b[38;5;124mLinearSVC\u001b[39m\u001b[38;5;124m'\u001b[39m, y_train, y_test, lsvc_train_preds, lsvc_test_preds)\n",
      "\u001b[1;31mNameError\u001b[0m: name 'lsvc_train_preds' is not defined"
     ]
    }
   ],
   "source": [
    "metrics('LinearSVC', y_train, y_test, lsvc_train_preds, lsvc_test_preds)"
   ]
  },
  {
   "cell_type": "code",
   "execution_count": 160,
   "metadata": {},
   "outputs": [
    {
     "ename": "ModuleNotFoundError",
     "evalue": "No module named 'pandas.util.testing'",
     "output_type": "error",
     "traceback": [
      "\u001b[1;31m---------------------------------------------------------------------------\u001b[0m",
      "\u001b[1;31mModuleNotFoundError\u001b[0m                       Traceback (most recent call last)",
      "Cell \u001b[1;32mIn[160], line 41\u001b[0m\n\u001b[0;32m     38\u001b[0m \u001b[38;5;28;01mimport\u001b[39;00m \u001b[38;5;21;01mwarnings\u001b[39;00m\n\u001b[0;32m     39\u001b[0m warnings\u001b[38;5;241m.\u001b[39mfilterwarnings(\u001b[38;5;124m\"\u001b[39m\u001b[38;5;124mignore\u001b[39m\u001b[38;5;124m\"\u001b[39m)\n\u001b[1;32m---> 41\u001b[0m \u001b[38;5;28;01mimport\u001b[39;00m \u001b[38;5;21;01mpandas\u001b[39;00m\u001b[38;5;21;01m.\u001b[39;00m\u001b[38;5;21;01mutil\u001b[39;00m\u001b[38;5;21;01m.\u001b[39;00m\u001b[38;5;21;01mtesting\u001b[39;00m \u001b[38;5;28;01mas\u001b[39;00m \u001b[38;5;21;01mtm\u001b[39;00m\n",
      "\u001b[1;31mModuleNotFoundError\u001b[0m: No module named 'pandas.util.testing'"
     ]
    }
   ],
   "source": [
    "# Importing the libraries\n",
    "import pandas as pd\n",
    "import numpy as np\n",
    "\n",
    "from scipy import stats\n",
    "import math\n",
    "\n",
    "#Visual/Graphs\n",
    "import matplotlib.pyplot as plt\n",
    "%matplotlib inline\n",
    "import seaborn as sns\n",
    "plt.style.use('seaborn')\n",
    "\n",
    "#Sklearn\n",
    "from sklearn.ensemble import RandomForestClassifier\n",
    "from sklearn.linear_model import LogisticRegression\n",
    "from sklearn.neighbors import KNeighborsClassifier as KNN\n",
    "from sklearn.preprocessing import LabelEncoder\n",
    "from sklearn.preprocessing import StandardScaler\n",
    "from sklearn.model_selection import train_test_split\n",
    "from sklearn.model_selection import cross_val_score\n",
    "from sklearn.model_selection import StratifiedShuffleSplit\n",
    "from sklearn.decomposition import PCA\n",
    "from sklearn.linear_model import LogisticRegression\n",
    "from sklearn.metrics import accuracy_score\n",
    "from sklearn import metrics\n",
    "from sklearn.metrics import roc_curve, auc\n",
    "from sklearn.model_selection import GridSearchCV\n",
    "from sklearn.model_selection import RandomizedSearchCV\n",
    "from sklearn.svm import SVC\n",
    "from sklearn.tree import DecisionTreeClassifier\n",
    "from sklearn.metrics import classification_report, accuracy_score, roc_auc_score\n",
    "\n",
    "from IPython.core.interactiveshell import InteractiveShell\n",
    "InteractiveShell.ast_node_interactivity = \"all\"\n",
    "\n",
    "#Import warnings\n",
    "import warnings\n",
    "warnings.filterwarnings(\"ignore\")\n",
    "\n",
    "import pandas.util.testing as tm"
   ]
  },
  {
   "cell_type": "code",
   "execution_count": 161,
   "metadata": {},
   "outputs": [],
   "source": [
    "def top_feat(model_pipe):\n",
    "    '''This function is used to find the best features of our models\n",
    "    \n",
    "    Args:\n",
    "        model_pipe (GridSearchCV): model_pipe is a pipeline\n",
    "    \n",
    "    Returns:\n",
    "        the top features of the model\n",
    "    '''\n",
    "    \n",
    "    onehot_columns = list(model_pipe.best_estimator_.named_steps['preprocessor'].named_transformers_['cat'].named_steps['onehot'].get_feature_names(input_features=categorical_cols))\n",
    "    numeric_features_list = list(numerical_cols)\n",
    "    numeric_features_list.extend(onehot_columns)\n",
    "    return eli5.explain_weights(model_pipe.best_estimator_.named_steps['model'], top=20, feature_names=numeric_features_list)"
   ]
  },
  {
   "cell_type": "code",
   "execution_count": 162,
   "metadata": {},
   "outputs": [],
   "source": [
    "xgb_param = {\n",
    "    'model__eta': [.3, .2, .1, .05, .01, .005], #Learning rate\n",
    "    'model__max_depth': [10], #The maximum depth of a tree.Used to control over-fitting\n",
    "    'model__min_child_weight': [6], # minimum sum of weights of all observations required in a child\n",
    "    'model__subsample': [0.8]      # Subsample ratio of the training instances.\n",
    "}"
   ]
  },
  {
   "cell_type": "code",
   "execution_count": 163,
   "metadata": {},
   "outputs": [
    {
     "ename": "ModuleNotFoundError",
     "evalue": "No module named 'xgboost'",
     "output_type": "error",
     "traceback": [
      "\u001b[1;31m---------------------------------------------------------------------------\u001b[0m",
      "\u001b[1;31mModuleNotFoundError\u001b[0m                       Traceback (most recent call last)",
      "Cell \u001b[1;32mIn[163], line 1\u001b[0m\n\u001b[1;32m----> 1\u001b[0m \u001b[38;5;28;01mfrom\u001b[39;00m \u001b[38;5;21;01mxgboost\u001b[39;00m \u001b[38;5;28;01mimport\u001b[39;00m XGBClassifier\n\u001b[0;32m      3\u001b[0m xgb \u001b[38;5;241m=\u001b[39m { \u001b[38;5;124m'\u001b[39m\u001b[38;5;124mmodel\u001b[39m\u001b[38;5;124m'\u001b[39m: XGBClassifier(random_state\u001b[38;5;241m=\u001b[39m\u001b[38;5;241m42\u001b[39m), \u001b[38;5;124m'\u001b[39m\u001b[38;5;124mparams\u001b[39m\u001b[38;5;124m'\u001b[39m: xgb_param }\n\u001b[0;32m      5\u001b[0m xgb_test_preds, xgb_train_preds, xgb_pipeline \u001b[38;5;241m=\u001b[39m fit_predict(xgb, X_train, X_test, y_train, y_test)\n",
      "\u001b[1;31mModuleNotFoundError\u001b[0m: No module named 'xgboost'"
     ]
    }
   ],
   "source": [
    "from xgboost import XGBClassifier\n",
    "\n",
    "xgb = { 'model': XGBClassifier(random_state=42), 'params': xgb_param }\n",
    "\n",
    "xgb_test_preds, xgb_train_preds, xgb_pipeline = fit_predict(xgb, X_train, X_test, y_train, y_test)"
   ]
  },
  {
   "cell_type": "code",
   "execution_count": 164,
   "metadata": {},
   "outputs": [
    {
     "ename": "NameError",
     "evalue": "name 'xgb_test_preds' is not defined",
     "output_type": "error",
     "traceback": [
      "\u001b[1;31m---------------------------------------------------------------------------\u001b[0m",
      "\u001b[1;31mNameError\u001b[0m                                 Traceback (most recent call last)",
      "Cell \u001b[1;32mIn[164], line 3\u001b[0m\n\u001b[0;32m      1\u001b[0m \u001b[38;5;28;01mfrom\u001b[39;00m \u001b[38;5;21;01msklearn\u001b[39;00m\u001b[38;5;21;01m.\u001b[39;00m\u001b[38;5;21;01mmetrics\u001b[39;00m \u001b[38;5;28;01mimport\u001b[39;00m accuracy_score, precision_score, recall_score, f1_score\n\u001b[1;32m----> 3\u001b[0m XGBoost_accuracy \u001b[38;5;241m=\u001b[39m accuracy_score(y_test, xgb_test_preds)\n\u001b[0;32m      4\u001b[0m XGBoost_precision \u001b[38;5;241m=\u001b[39m precision_score(y_test, xgb_test_preds)\n\u001b[0;32m      5\u001b[0m \u001b[38;5;66;03m# ... calculate other metrics\u001b[39;00m\n",
      "\u001b[1;31mNameError\u001b[0m: name 'xgb_test_preds' is not defined"
     ]
    }
   ],
   "source": [
    "from sklearn.metrics import accuracy_score, precision_score, recall_score, f1_score\n",
    "\n",
    "XGBoost_accuracy = accuracy_score(y_test, xgb_test_preds)\n",
    "XGBoost_precision = precision_score(y_test, xgb_test_preds)\n",
    "# ... calculate other metrics\n",
    "\n",
    "print(f\"XGBoost Accuracy: {XGBoost_accuracy}\")\n",
    "print(f\"XGBoost Precision: {XGBoost_precision}\")\n",
    "# ... print other metric values\n"
   ]
  },
  {
   "cell_type": "code",
   "execution_count": 165,
   "metadata": {},
   "outputs": [
    {
     "ename": "NameError",
     "evalue": "name 'xgb_test_preds' is not defined",
     "output_type": "error",
     "traceback": [
      "\u001b[1;31m---------------------------------------------------------------------------\u001b[0m",
      "\u001b[1;31mNameError\u001b[0m                                 Traceback (most recent call last)",
      "Cell \u001b[1;32mIn[165], line 4\u001b[0m\n\u001b[0;32m      1\u001b[0m \u001b[38;5;28;01mfrom\u001b[39;00m \u001b[38;5;21;01msklearn\u001b[39;00m\u001b[38;5;21;01m.\u001b[39;00m\u001b[38;5;21;01mmetrics\u001b[39;00m \u001b[38;5;28;01mimport\u001b[39;00m accuracy_score, precision_score, recall_score, f1_score\n\u001b[0;32m      3\u001b[0m \u001b[38;5;66;03m# Calculate and print various metrics using the same data you provided to `metrics`\u001b[39;00m\n\u001b[1;32m----> 4\u001b[0m XGBoost_accuracy \u001b[38;5;241m=\u001b[39m accuracy_score(y_test, xgb_test_preds)\n\u001b[0;32m      5\u001b[0m XGBoost_precision \u001b[38;5;241m=\u001b[39m precision_score(y_test, xgb_test_preds)\n\u001b[0;32m      6\u001b[0m XGBoost_recall \u001b[38;5;241m=\u001b[39m recall_score(y_test, xgb_test_preds)\n",
      "\u001b[1;31mNameError\u001b[0m: name 'xgb_test_preds' is not defined"
     ]
    }
   ],
   "source": [
    "from sklearn.metrics import accuracy_score, precision_score, recall_score, f1_score\n",
    "\n",
    "# Calculate and print various metrics using the same data you provided to `metrics`\n",
    "XGBoost_accuracy = accuracy_score(y_test, xgb_test_preds)\n",
    "XGBoost_precision = precision_score(y_test, xgb_test_preds)\n",
    "XGBoost_recall = recall_score(y_test, xgb_test_preds)\n",
    "XGBoost_f1 = f1_score(y_test, xgb_test_preds)\n",
    "\n",
    "print(f\"XGBoost Accuracy: {XGBoost_accuracy}\")\n",
    "print(f\"XGBoost Precision: {XGBoost_precision}\")\n",
    "print(f\"XGBoost Recall: {XGBoost_recall}\")\n",
    "print(f\"XGBoost F1-score: {XGBoost_f1}\")\n"
   ]
  },
  {
   "cell_type": "code",
   "execution_count": 166,
   "metadata": {},
   "outputs": [
    {
     "ename": "NameError",
     "evalue": "name 'xgb_test_preds' is not defined",
     "output_type": "error",
     "traceback": [
      "\u001b[1;31m---------------------------------------------------------------------------\u001b[0m",
      "\u001b[1;31mNameError\u001b[0m                                 Traceback (most recent call last)",
      "Cell \u001b[1;32mIn[166], line 1\u001b[0m\n\u001b[1;32m----> 1\u001b[0m roc(X_test,y_test,xgb_test_preds,xgb_pipeline)\n",
      "\u001b[1;31mNameError\u001b[0m: name 'xgb_test_preds' is not defined"
     ]
    }
   ],
   "source": [
    "roc(X_test,y_test,xgb_test_preds,xgb_pipeline)"
   ]
  },
  {
   "cell_type": "markdown",
   "metadata": {},
   "source": [
    "errors im getting r for visualizing (nimelemewa)"
   ]
  },
  {
   "cell_type": "code",
   "execution_count": 167,
   "metadata": {},
   "outputs": [
    {
     "ename": "NameError",
     "evalue": "name 'xgb_pipeline' is not defined",
     "output_type": "error",
     "traceback": [
      "\u001b[1;31m---------------------------------------------------------------------------\u001b[0m",
      "\u001b[1;31mNameError\u001b[0m                                 Traceback (most recent call last)",
      "Cell \u001b[1;32mIn[167], line 1\u001b[0m\n\u001b[1;32m----> 1\u001b[0m top_feat(xgb_pipeline)\n",
      "\u001b[1;31mNameError\u001b[0m: name 'xgb_pipeline' is not defined"
     ]
    }
   ],
   "source": [
    "top_feat(xgb_pipeline)"
   ]
  },
  {
   "cell_type": "code",
   "execution_count": 168,
   "metadata": {},
   "outputs": [
    {
     "ename": "NameError",
     "evalue": "name 'fit_predict' is not defined",
     "output_type": "error",
     "traceback": [
      "\u001b[1;31m---------------------------------------------------------------------------\u001b[0m",
      "\u001b[1;31mNameError\u001b[0m                                 Traceback (most recent call last)",
      "Cell \u001b[1;32mIn[168], line 12\u001b[0m\n\u001b[0;32m      9\u001b[0m                                             \u001b[38;5;66;03m# Smaller leaf size makes the model more prone to capturing noise in train data.\u001b[39;00m\n\u001b[0;32m     10\u001b[0m rfc \u001b[38;5;241m=\u001b[39m { \u001b[38;5;124m'\u001b[39m\u001b[38;5;124mmodel\u001b[39m\u001b[38;5;124m'\u001b[39m: RandomForestClassifier(random_state\u001b[38;5;241m=\u001b[39m\u001b[38;5;241m42\u001b[39m), \u001b[38;5;124m'\u001b[39m\u001b[38;5;124mparams\u001b[39m\u001b[38;5;124m'\u001b[39m: forest_params }\n\u001b[1;32m---> 12\u001b[0m rfc_test_preds, rfc_train_preds,rfc_pipeline \u001b[38;5;241m=\u001b[39m fit_predict(rfc, X_train, X_test, y_train, y_test)\n",
      "\u001b[1;31mNameError\u001b[0m: name 'fit_predict' is not defined"
     ]
    }
   ],
   "source": [
    "from sklearn.tree import DecisionTreeClassifier\n",
    "from sklearn.ensemble import BaggingClassifier, RandomForestClassifier\n",
    "\n",
    "forest_params = {'model__n_estimators' : [500,1000],  # number of decision trees to be created\n",
    "                 'model__criterion' : ['gini','entropy'], # function that is to be used for splitting\n",
    "                 'model__max_depth': [10],          # maximum depth of the trees\n",
    "                 'model__min_samples_split' : [10], # minimum number of samples required in a leaf node before a split is attempted\n",
    "                 'model__min_samples_leaf' : [5]} # minimum number of samples required to be at a leaf node. \n",
    "                                            # Smaller leaf size makes the model more prone to capturing noise in train data.\n",
    "rfc = { 'model': RandomForestClassifier(random_state=42), 'params': forest_params }\n",
    "\n",
    "rfc_test_preds, rfc_train_preds,rfc_pipeline = fit_predict(rfc, X_train, X_test, y_train, y_test)"
   ]
  },
  {
   "cell_type": "code",
   "execution_count": 169,
   "metadata": {},
   "outputs": [
    {
     "ename": "NameError",
     "evalue": "name 'fit_predict' is not defined",
     "output_type": "error",
     "traceback": [
      "\u001b[1;31m---------------------------------------------------------------------------\u001b[0m",
      "\u001b[1;31mNameError\u001b[0m                                 Traceback (most recent call last)",
      "Cell \u001b[1;32mIn[169], line 3\u001b[0m\n\u001b[0;32m      1\u001b[0m \u001b[38;5;28;01mfrom\u001b[39;00m \u001b[38;5;21;01msklearn\u001b[39;00m\u001b[38;5;21;01m.\u001b[39;00m\u001b[38;5;21;01mmetrics\u001b[39;00m \u001b[38;5;28;01mimport\u001b[39;00m accuracy_score, precision_score, recall_score, f1_score\n\u001b[1;32m----> 3\u001b[0m rfc_test_preds, rfc_train_preds, rfc_pipeline \u001b[38;5;241m=\u001b[39m fit_predict(rfc, X_train, X_test, y_train, y_test)\n\u001b[0;32m      5\u001b[0m random_forest_accuracy \u001b[38;5;241m=\u001b[39m accuracy_score(y_test, rfc_test_preds)\n\u001b[0;32m      6\u001b[0m random_forest_precision \u001b[38;5;241m=\u001b[39m precision_score(y_test, rfc_test_preds)\n",
      "\u001b[1;31mNameError\u001b[0m: name 'fit_predict' is not defined"
     ]
    }
   ],
   "source": [
    "from sklearn.metrics import accuracy_score, precision_score, recall_score, f1_score\n",
    "\n",
    "rfc_test_preds, rfc_train_preds, rfc_pipeline = fit_predict(rfc, X_train, X_test, y_train, y_test)\n",
    "\n",
    "random_forest_accuracy = accuracy_score(y_test, rfc_test_preds)\n",
    "random_forest_precision = precision_score(y_test, rfc_test_preds)\n",
    "# ... calculate other metrics\n",
    "\n",
    "print(f\"Random Forest Accuracy: {random_forest_accuracy}\")\n",
    "print(f\"Random Forest Precision: {random_forest_precision}\")\n",
    "# ... print other metric values\n"
   ]
  },
  {
   "cell_type": "code",
   "execution_count": 170,
   "metadata": {},
   "outputs": [
    {
     "ename": "NameError",
     "evalue": "name 'rfc_test_preds' is not defined",
     "output_type": "error",
     "traceback": [
      "\u001b[1;31m---------------------------------------------------------------------------\u001b[0m",
      "\u001b[1;31mNameError\u001b[0m                                 Traceback (most recent call last)",
      "Cell \u001b[1;32mIn[170], line 1\u001b[0m\n\u001b[1;32m----> 1\u001b[0m roc(X_test,y_test,rfc_test_preds,rfc_pipeline)\n",
      "\u001b[1;31mNameError\u001b[0m: name 'rfc_test_preds' is not defined"
     ]
    }
   ],
   "source": [
    "roc(X_test,y_test,rfc_test_preds,rfc_pipeline)"
   ]
  },
  {
   "cell_type": "markdown",
   "metadata": {},
   "source": [
    "finaly i wanted to print all the models with there xtest and xtrain(pia hi nimelemewa)"
   ]
  },
  {
   "cell_type": "code",
   "execution_count": 171,
   "metadata": {},
   "outputs": [
    {
     "name": "stdout",
     "output_type": "stream",
     "text": [
      "LinearSVC Test Predictions:\n"
     ]
    },
    {
     "ename": "NameError",
     "evalue": "name 'lsvc_test_preds' is not defined",
     "output_type": "error",
     "traceback": [
      "\u001b[1;31m---------------------------------------------------------------------------\u001b[0m",
      "\u001b[1;31mNameError\u001b[0m                                 Traceback (most recent call last)",
      "Cell \u001b[1;32mIn[171], line 3\u001b[0m\n\u001b[0;32m      1\u001b[0m \u001b[38;5;66;03m# LinearSVC\u001b[39;00m\n\u001b[0;32m      2\u001b[0m \u001b[38;5;28mprint\u001b[39m(\u001b[38;5;124m\"\u001b[39m\u001b[38;5;124mLinearSVC Test Predictions:\u001b[39m\u001b[38;5;124m\"\u001b[39m)\n\u001b[1;32m----> 3\u001b[0m \u001b[38;5;28mprint\u001b[39m(lsvc_test_preds)\n\u001b[0;32m      4\u001b[0m \u001b[38;5;28mprint\u001b[39m(\u001b[38;5;124m\"\u001b[39m\u001b[38;5;124mLinearSVC Train Predictions:\u001b[39m\u001b[38;5;124m\"\u001b[39m)\n\u001b[0;32m      5\u001b[0m \u001b[38;5;28mprint\u001b[39m(lsvc_train_preds)\n",
      "\u001b[1;31mNameError\u001b[0m: name 'lsvc_test_preds' is not defined"
     ]
    }
   ],
   "source": [
    "# LinearSVC\n",
    "print(\"LinearSVC Test Predictions:\")\n",
    "print(lsvc_test_preds)\n",
    "print(\"LinearSVC Train Predictions:\")\n",
    "print(lsvc_train_preds)\n",
    "\n",
    "# XGBoost\n",
    "print(\"XGBoost Test Predictions:\")\n",
    "print(xgb_test_preds)\n",
    "print(\"XGBoost Train Predictions:\")\n",
    "print(xgb_train_preds)\n",
    "\n",
    "# Random Forest\n",
    "print(\"Random Forest Test Predictions:\")\n",
    "print(rfc_test_preds)\n",
    "print(\"Random Forest Train Predictions:\")\n",
    "print(rfc_train_preds)"
   ]
  },
  {
   "cell_type": "code",
   "execution_count": null,
   "metadata": {},
   "outputs": [],
   "source": []
  }
 ],
 "metadata": {
  "kernelspec": {
   "display_name": "Python (learn-env)",
   "language": "python",
   "name": "learn-env"
  },
  "language_info": {
   "codemirror_mode": {
    "name": "ipython",
    "version": 3
   },
   "file_extension": ".py",
   "mimetype": "text/x-python",
   "name": "python",
   "nbconvert_exporter": "python",
   "pygments_lexer": "ipython3",
   "version": "3.11.5"
  }
 },
 "nbformat": 4,
 "nbformat_minor": 4
}
